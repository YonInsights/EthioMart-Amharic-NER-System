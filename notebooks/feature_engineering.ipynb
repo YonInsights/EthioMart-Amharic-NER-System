{
 "cells": [
  {
   "cell_type": "code",
   "execution_count": 1,
   "metadata": {},
   "outputs": [],
   "source": [
    "import sys\n",
    "import os\n",
    "\n",
    "# Ensure src/ is in the Python path\n",
    "sys.path.append(os.path.abspath(\"../src\"))"
   ]
  },
  {
   "cell_type": "code",
   "execution_count": 2,
   "metadata": {},
   "outputs": [],
   "source": [
    "# Import the feature engineering functions\n",
    "from feature_engineering import (\n",
    "    create_temporal_features,\n",
    "    add_text_features,\n",
    "    add_sentiment_features,\n",
    "    encode_categorical_features,\n",
    "    remove_duplicates,\n",
    "    handle_missing_values\n",
    ")\n",
    "from db_operations import read_data_from_table, write_data_to_table\n",
    "from logging_utils import setup_logger\n",
    "# Set up logging\n",
    "logger = setup_logger(name='my_logger', log_file='../notebooks/logs/my_log.log')\n",
    "logger.info(\"Starting feature engineering process...\")"
   ]
  },
  {
   "cell_type": "code",
   "execution_count": 3,
   "metadata": {},
   "outputs": [
    {
     "name": "stdout",
     "output_type": "stream",
     "text": [
      "SQLAlchemy engine created successfully!\n",
      "Data read from table 'telegram_messages' successfully!\n"
     ]
    },
    {
     "data": {
      "text/html": [
       "<div>\n",
       "<style scoped>\n",
       "    .dataframe tbody tr th:only-of-type {\n",
       "        vertical-align: middle;\n",
       "    }\n",
       "\n",
       "    .dataframe tbody tr th {\n",
       "        vertical-align: top;\n",
       "    }\n",
       "\n",
       "    .dataframe thead th {\n",
       "        text-align: right;\n",
       "    }\n",
       "</style>\n",
       "<table border=\"1\" class=\"dataframe\">\n",
       "  <thead>\n",
       "    <tr style=\"text-align: right;\">\n",
       "      <th></th>\n",
       "      <th>id</th>\n",
       "      <th>date</th>\n",
       "      <th>message</th>\n",
       "      <th>views</th>\n",
       "      <th>media</th>\n",
       "    </tr>\n",
       "  </thead>\n",
       "  <tbody>\n",
       "    <tr>\n",
       "      <th>0</th>\n",
       "      <td>97</td>\n",
       "      <td>2023-02-10 12:23:06</td>\n",
       "      <td>⚠️Notice!\\nDear esteemed customers,\\nDue to fo...</td>\n",
       "      <td>1047.0</td>\n",
       "      <td>True</td>\n",
       "    </tr>\n",
       "    <tr>\n",
       "      <th>1</th>\n",
       "      <td>96</td>\n",
       "      <td>2023-02-02 08:58:52</td>\n",
       "      <td>Mela-One በውስጡ ሆርሞን ያለው ድንገተኛ ወሊድ መቆጣጠርያ ሲሆን ያለ...</td>\n",
       "      <td>1013.0</td>\n",
       "      <td>True</td>\n",
       "    </tr>\n",
       "    <tr>\n",
       "      <th>2</th>\n",
       "      <td>95</td>\n",
       "      <td>2023-02-01 08:59:37</td>\n",
       "      <td>አዚትሮማይሲን በሃኪም መድሃኒት ማዘዣ ከሚታዘዙ አንቲባዮቲኮች አንዱ ሲሆን...</td>\n",
       "      <td>920.0</td>\n",
       "      <td>True</td>\n",
       "    </tr>\n",
       "    <tr>\n",
       "      <th>3</th>\n",
       "      <td>94</td>\n",
       "      <td>2023-01-31 09:19:53</td>\n",
       "      <td>Che-Med Trivia #3\\n\\nምግብና መጠጦች አንዳንድ መድሃኒቶች በደ...</td>\n",
       "      <td>712.0</td>\n",
       "      <td>True</td>\n",
       "    </tr>\n",
       "    <tr>\n",
       "      <th>4</th>\n",
       "      <td>93</td>\n",
       "      <td>2023-01-30 09:45:25</td>\n",
       "      <td>Che-Med Trivia #2\\n\\nእንደ Ciprofloxacin, Doxycy...</td>\n",
       "      <td>620.0</td>\n",
       "      <td>True</td>\n",
       "    </tr>\n",
       "  </tbody>\n",
       "</table>\n",
       "</div>"
      ],
      "text/plain": [
       "   id                date                                            message  \\\n",
       "0  97 2023-02-10 12:23:06  ⚠️Notice!\\nDear esteemed customers,\\nDue to fo...   \n",
       "1  96 2023-02-02 08:58:52  Mela-One በውስጡ ሆርሞን ያለው ድንገተኛ ወሊድ መቆጣጠርያ ሲሆን ያለ...   \n",
       "2  95 2023-02-01 08:59:37  አዚትሮማይሲን በሃኪም መድሃኒት ማዘዣ ከሚታዘዙ አንቲባዮቲኮች አንዱ ሲሆን...   \n",
       "3  94 2023-01-31 09:19:53  Che-Med Trivia #3\\n\\nምግብና መጠጦች አንዳንድ መድሃኒቶች በደ...   \n",
       "4  93 2023-01-30 09:45:25  Che-Med Trivia #2\\n\\nእንደ Ciprofloxacin, Doxycy...   \n",
       "\n",
       "    views  media  \n",
       "0  1047.0   True  \n",
       "1  1013.0   True  \n",
       "2   920.0   True  \n",
       "3   712.0   True  \n",
       "4   620.0   True  "
      ]
     },
     "execution_count": 3,
     "metadata": {},
     "output_type": "execute_result"
    }
   ],
   "source": [
    "# Specify the table name\n",
    "table_name = 'telegram_messages'\n",
    "\n",
    "# Fetch data from the database\n",
    "df = read_data_from_table(table_name)\n",
    "logger.info(f\"Loaded {len(df)} rows from {table_name}\")\n",
    "\n",
    "# Display first few rows\n",
    "df.head()"
   ]
  },
  {
   "cell_type": "code",
   "execution_count": 4,
   "metadata": {},
   "outputs": [],
   "source": [
    "# remove duplicates\n",
    "df = remove_duplicates(df)\n",
    "logger.info(\"Duplicates removed successfully.\")\n",
    "\n",
    "df = handle_missing_values(df)\n",
    "logger.info(\"Missing values handled successfully.\")\n"
   ]
  },
  {
   "cell_type": "code",
   "execution_count": 5,
   "metadata": {},
   "outputs": [],
   "source": [
    "# Apply Feature Engineering\n",
    "df = create_temporal_features(df)\n",
    "logger.info(\"Temporal features created successfully.\")\n",
    "\n",
    "df = add_text_features(df)\n",
    "logger.info(\"Text features added successfully.\")\n",
    "\n",
    "df = add_sentiment_features(df)\n",
    "logger.info(\"Sentiment features added successfully.\")\n",
    "\n",
    "df = encode_categorical_features(df)\n",
    "logger.info(\"Categorical features encoded successfully.\")\n"
   ]
  },
  {
   "cell_type": "code",
   "execution_count": 6,
   "metadata": {},
   "outputs": [
    {
     "name": "stdout",
     "output_type": "stream",
     "text": [
      "SQLAlchemy engine created successfully!\n",
      "Data written successfully to 'cleaned_telegram_messages'\n"
     ]
    }
   ],
   "source": [
    "# Define cleaned table name\n",
    "cleaned_table_name = \"cleaned_telegram_messages\"\n",
    "\n",
    "# Save cleaned data to database\n",
    "write_data_to_table(df, cleaned_table_name)\n",
    "logger.info(f\"Cleaned data saved successfully in table: {cleaned_table_name}\")\n"
   ]
  }
 ],
 "metadata": {
  "kernelspec": {
   "display_name": "venv",
   "language": "python",
   "name": "python3"
  },
  "language_info": {
   "codemirror_mode": {
    "name": "ipython",
    "version": 3
   },
   "file_extension": ".py",
   "mimetype": "text/x-python",
   "name": "python",
   "nbconvert_exporter": "python",
   "pygments_lexer": "ipython3",
   "version": "3.12.8"
  }
 },
 "nbformat": 4,
 "nbformat_minor": 2
}
