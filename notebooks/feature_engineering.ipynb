{
 "cells": [
  {
   "cell_type": "code",
   "execution_count": 3,
   "metadata": {},
   "outputs": [],
   "source": [
    "import sys\n",
    "import os\n",
    "\n",
    "# Ensure src/ is in the Python path\n",
    "sys.path.append(os.path.abspath(\"../src\"))\n",
    "\n",
    "# Import the feature engineering functions\n",
    "from feature_engineering import add_sentiment_features, encode_categorical_features, clean_message ,add_text_features\n",
    "from model import train_model, tune_hyperparameters\n",
    "from db_operations import connect_to_db, close_connection, read_data_from_table\n",
    "from logging_utils import setup_logger\n",
    "# Set up logging\n",
    "logger = setup_logger(name='my_logger', log_file='logs/my_log.log')\n",
    "logger.info(\"Starting EDA process...\")"
   ]
  },
  {
   "cell_type": "code",
   "execution_count": 4,
   "metadata": {},
   "outputs": [
    {
     "name": "stdout",
     "output_type": "stream",
     "text": [
      "Connected to the database successfully!\n",
      "Executing query: SELECT * FROM telegram_messages\n",
      "Data read from table 'telegram_messages' successfully!\n",
      "Database connection closed.\n"
     ]
    },
    {
     "name": "stderr",
     "output_type": "stream",
     "text": [
      "d:\\Kifya_training\\Week 7\\EthioMart-Amharic-NER-System\\src\\db_operations.py:40: UserWarning: pandas only supports SQLAlchemy connectable (engine/connection) or database string URI or sqlite3 DBAPI2 connection. Other DBAPI2 objects are not tested. Please consider using SQLAlchemy.\n",
      "  df = pd.read_sql(query, conn)  # Pass the string query to pandas\n"
     ]
    }
   ],
   "source": [
    "# Specify the table name\n",
    "table_name = 'telegram_messages'\n",
    "\n",
    "# Fetch data from the table\n",
    "df = read_data_from_table(table_name)\n",
    "logger.info(\"Data loaded successfully.\")\n",
    "\n"
   ]
  },
  {
   "cell_type": "code",
   "execution_count": 6,
   "metadata": {},
   "outputs": [],
   "source": [
    "# Add sentiment features\n",
    "df = add_sentiment_features(df)\n",
    "logger.info(\"Sentiment features added successfully.\")"
   ]
  }
 ],
 "metadata": {
  "kernelspec": {
   "display_name": "venv",
   "language": "python",
   "name": "python3"
  },
  "language_info": {
   "codemirror_mode": {
    "name": "ipython",
    "version": 3
   },
   "file_extension": ".py",
   "mimetype": "text/x-python",
   "name": "python",
   "nbconvert_exporter": "python",
   "pygments_lexer": "ipython3",
   "version": "3.12.8"
  }
 },
 "nbformat": 4,
 "nbformat_minor": 2
}
