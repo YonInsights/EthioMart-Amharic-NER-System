{
 "cells": [
  {
   "cell_type": "code",
   "execution_count": 1,
   "metadata": {},
   "outputs": [],
   "source": [
    "import os\n",
    "import sys\n",
    "# Add the scripts folder to the Python path\n",
    "sys.path.append(os.path.abspath(\"../src\"))"
   ]
  },
  {
   "cell_type": "code",
   "execution_count": 2,
   "metadata": {},
   "outputs": [],
   "source": [
    "#import the necessary modules\n",
    "import pandas as pd\n",
    "import numpy as np\n",
    "import matplotlib.pyplot as plt\n",
    "import seaborn as sns\n",
    "import datetime\n",
    "from db_operations import connect_to_db, close_connection, read_data_from_table\n",
    "from logging_utils import setup_logger\n",
    "# Set up logging\n",
    "logger = setup_logger(name='my_logger', log_file='logs/my_log.log')\n",
    "logger.info(\"Starting EDA process...\")\n"
   ]
  },
  {
   "cell_type": "code",
   "execution_count": 12,
   "metadata": {},
   "outputs": [
    {
     "name": "stdout",
     "output_type": "stream",
     "text": [
      "Connected to the database successfully!\n",
      "Executing query: SELECT * FROM telegram_messages\n",
      "Data read from table 'telegram_messages' successfully!\n",
      "Database connection closed.\n"
     ]
    },
    {
     "name": "stderr",
     "output_type": "stream",
     "text": [
      "d:\\Kifya_training\\Week 7\\EthioMart-Amharic-NER-System\\src\\db_operations.py:40: UserWarning: pandas only supports SQLAlchemy connectable (engine/connection) or database string URI or sqlite3 DBAPI2 connection. Other DBAPI2 objects are not tested. Please consider using SQLAlchemy.\n",
      "  df = pd.read_sql(query, conn)  # Pass the string query to pandas\n"
     ]
    }
   ],
   "source": [
    "# Specify the table name\n",
    "table_name = 'telegram_messages'\n",
    "\n",
    "# Fetch data from the table\n",
    "df = read_data_from_table(table_name)\n",
    "logger.info(\"Data loaded successfully.\")\n",
    "\n"
   ]
  },
  {
   "cell_type": "code",
   "execution_count": 13,
   "metadata": {},
   "outputs": [
    {
     "data": {
      "text/html": [
       "<div>\n",
       "<style scoped>\n",
       "    .dataframe tbody tr th:only-of-type {\n",
       "        vertical-align: middle;\n",
       "    }\n",
       "\n",
       "    .dataframe tbody tr th {\n",
       "        vertical-align: top;\n",
       "    }\n",
       "\n",
       "    .dataframe thead th {\n",
       "        text-align: right;\n",
       "    }\n",
       "</style>\n",
       "<table border=\"1\" class=\"dataframe\">\n",
       "  <thead>\n",
       "    <tr style=\"text-align: right;\">\n",
       "      <th></th>\n",
       "      <th>id</th>\n",
       "      <th>date</th>\n",
       "      <th>message</th>\n",
       "      <th>views</th>\n",
       "      <th>media</th>\n",
       "    </tr>\n",
       "  </thead>\n",
       "  <tbody>\n",
       "    <tr>\n",
       "      <th>0</th>\n",
       "      <td>97</td>\n",
       "      <td>2023-02-10 12:23:06</td>\n",
       "      <td>⚠️Notice!\\nDear esteemed customers,\\nDue to fo...</td>\n",
       "      <td>1047.0</td>\n",
       "      <td>True</td>\n",
       "    </tr>\n",
       "    <tr>\n",
       "      <th>1</th>\n",
       "      <td>96</td>\n",
       "      <td>2023-02-02 08:58:52</td>\n",
       "      <td>Mela-One በውስጡ ሆርሞን ያለው ድንገተኛ ወሊድ መቆጣጠርያ ሲሆን ያለ...</td>\n",
       "      <td>1013.0</td>\n",
       "      <td>True</td>\n",
       "    </tr>\n",
       "    <tr>\n",
       "      <th>2</th>\n",
       "      <td>95</td>\n",
       "      <td>2023-02-01 08:59:37</td>\n",
       "      <td>አዚትሮማይሲን በሃኪም መድሃኒት ማዘዣ ከሚታዘዙ አንቲባዮቲኮች አንዱ ሲሆን...</td>\n",
       "      <td>920.0</td>\n",
       "      <td>True</td>\n",
       "    </tr>\n",
       "    <tr>\n",
       "      <th>3</th>\n",
       "      <td>94</td>\n",
       "      <td>2023-01-31 09:19:53</td>\n",
       "      <td>Che-Med Trivia #3\\n\\nምግብና መጠጦች አንዳንድ መድሃኒቶች በደ...</td>\n",
       "      <td>712.0</td>\n",
       "      <td>True</td>\n",
       "    </tr>\n",
       "    <tr>\n",
       "      <th>4</th>\n",
       "      <td>93</td>\n",
       "      <td>2023-01-30 09:45:25</td>\n",
       "      <td>Che-Med Trivia #2\\n\\nእንደ Ciprofloxacin, Doxycy...</td>\n",
       "      <td>620.0</td>\n",
       "      <td>True</td>\n",
       "    </tr>\n",
       "  </tbody>\n",
       "</table>\n",
       "</div>"
      ],
      "text/plain": [
       "   id                date                                            message  \\\n",
       "0  97 2023-02-10 12:23:06  ⚠️Notice!\\nDear esteemed customers,\\nDue to fo...   \n",
       "1  96 2023-02-02 08:58:52  Mela-One በውስጡ ሆርሞን ያለው ድንገተኛ ወሊድ መቆጣጠርያ ሲሆን ያለ...   \n",
       "2  95 2023-02-01 08:59:37  አዚትሮማይሲን በሃኪም መድሃኒት ማዘዣ ከሚታዘዙ አንቲባዮቲኮች አንዱ ሲሆን...   \n",
       "3  94 2023-01-31 09:19:53  Che-Med Trivia #3\\n\\nምግብና መጠጦች አንዳንድ መድሃኒቶች በደ...   \n",
       "4  93 2023-01-30 09:45:25  Che-Med Trivia #2\\n\\nእንደ Ciprofloxacin, Doxycy...   \n",
       "\n",
       "    views  media  \n",
       "0  1047.0   True  \n",
       "1  1013.0   True  \n",
       "2   920.0   True  \n",
       "3   712.0   True  \n",
       "4   620.0   True  "
      ]
     },
     "metadata": {},
     "output_type": "display_data"
    },
    {
     "name": "stdout",
     "output_type": "stream",
     "text": [
      "<class 'pandas.core.frame.DataFrame'>\n",
      "RangeIndex: 476 entries, 0 to 475\n",
      "Data columns (total 5 columns):\n",
      " #   Column   Non-Null Count  Dtype         \n",
      "---  ------   --------------  -----         \n",
      " 0   id       476 non-null    int64         \n",
      " 1   date     476 non-null    datetime64[ns]\n",
      " 2   message  476 non-null    object        \n",
      " 3   views    437 non-null    float64       \n",
      " 4   media    476 non-null    bool          \n",
      "dtypes: bool(1), datetime64[ns](1), float64(1), int64(1), object(1)\n",
      "memory usage: 15.5+ KB\n"
     ]
    },
    {
     "data": {
      "text/plain": [
       "id          0\n",
       "date        0\n",
       "message     0\n",
       "views      39\n",
       "media       0\n",
       "dtype: int64"
      ]
     },
     "metadata": {},
     "output_type": "display_data"
    },
    {
     "data": {
      "text/html": [
       "<div>\n",
       "<style scoped>\n",
       "    .dataframe tbody tr th:only-of-type {\n",
       "        vertical-align: middle;\n",
       "    }\n",
       "\n",
       "    .dataframe tbody tr th {\n",
       "        vertical-align: top;\n",
       "    }\n",
       "\n",
       "    .dataframe thead th {\n",
       "        text-align: right;\n",
       "    }\n",
       "</style>\n",
       "<table border=\"1\" class=\"dataframe\">\n",
       "  <thead>\n",
       "    <tr style=\"text-align: right;\">\n",
       "      <th></th>\n",
       "      <th>id</th>\n",
       "      <th>date</th>\n",
       "      <th>views</th>\n",
       "    </tr>\n",
       "  </thead>\n",
       "  <tbody>\n",
       "    <tr>\n",
       "      <th>count</th>\n",
       "      <td>476.000000</td>\n",
       "      <td>476</td>\n",
       "      <td>437.000000</td>\n",
       "    </tr>\n",
       "    <tr>\n",
       "      <th>mean</th>\n",
       "      <td>4121.949580</td>\n",
       "      <td>2024-01-29 10:14:05.481092608</td>\n",
       "      <td>5529.727689</td>\n",
       "    </tr>\n",
       "    <tr>\n",
       "      <th>min</th>\n",
       "      <td>1.000000</td>\n",
       "      <td>2022-02-05 04:59:06</td>\n",
       "      <td>194.000000</td>\n",
       "    </tr>\n",
       "    <tr>\n",
       "      <th>25%</th>\n",
       "      <td>792.750000</td>\n",
       "      <td>2022-11-15 07:34:26</td>\n",
       "      <td>721.000000</td>\n",
       "    </tr>\n",
       "    <tr>\n",
       "      <th>50%</th>\n",
       "      <td>1209.500000</td>\n",
       "      <td>2024-11-14 04:50:51</td>\n",
       "      <td>2123.000000</td>\n",
       "    </tr>\n",
       "    <tr>\n",
       "      <th>75%</th>\n",
       "      <td>2578.250000</td>\n",
       "      <td>2025-01-19 09:35:38.500000</td>\n",
       "      <td>10527.000000</td>\n",
       "    </tr>\n",
       "    <tr>\n",
       "      <th>max</th>\n",
       "      <td>15096.000000</td>\n",
       "      <td>2025-01-27 11:01:51</td>\n",
       "      <td>36029.000000</td>\n",
       "    </tr>\n",
       "    <tr>\n",
       "      <th>std</th>\n",
       "      <td>5693.602041</td>\n",
       "      <td>NaN</td>\n",
       "      <td>7059.784943</td>\n",
       "    </tr>\n",
       "  </tbody>\n",
       "</table>\n",
       "</div>"
      ],
      "text/plain": [
       "                 id                           date         views\n",
       "count    476.000000                            476    437.000000\n",
       "mean    4121.949580  2024-01-29 10:14:05.481092608   5529.727689\n",
       "min        1.000000            2022-02-05 04:59:06    194.000000\n",
       "25%      792.750000            2022-11-15 07:34:26    721.000000\n",
       "50%     1209.500000            2024-11-14 04:50:51   2123.000000\n",
       "75%     2578.250000     2025-01-19 09:35:38.500000  10527.000000\n",
       "max    15096.000000            2025-01-27 11:01:51  36029.000000\n",
       "std     5693.602041                            NaN   7059.784943"
      ]
     },
     "metadata": {},
     "output_type": "display_data"
    }
   ],
   "source": [
    "# Display the first few rows of the DataFrame\n",
    "logger.info(\"Displaying the first 5 rows of the dataset:\")\n",
    "display(df.head())\n",
    "\n",
    "# Get basic information about the dataset\n",
    "logger.info(\"Dataset info:\")\n",
    "df.info()\n",
    "\n",
    "# Check for missing values\n",
    "logger.info(\"Missing values in the dataset:\")\n",
    "display(df.isnull().sum())\n",
    "\n",
    "# Get basic statistics for numerical columns\n",
    "logger.info(\"Basic statistics for numerical columns:\")\n",
    "display(df.describe())"
   ]
  },
  {
   "cell_type": "code",
   "execution_count": 14,
   "metadata": {},
   "outputs": [
    {
     "data": {
      "text/plain": [
       "id         0\n",
       "date       0\n",
       "message    0\n",
       "views      0\n",
       "media      0\n",
       "dtype: int64"
      ]
     },
     "metadata": {},
     "output_type": "display_data"
    }
   ],
   "source": [
    "# Fill missing values in the 'views' column with the median\n",
    "df['views'] = df['views'].fillna(df['views'].median())\n",
    "\n",
    "# Verify that there are no more missing values\n",
    "logger.info(\"Missing values after filling:\")\n",
    "display(df.isnull().sum())"
   ]
  }
 ],
 "metadata": {
  "kernelspec": {
   "display_name": "venv",
   "language": "python",
   "name": "python3"
  },
  "language_info": {
   "codemirror_mode": {
    "name": "ipython",
    "version": 3
   },
   "file_extension": ".py",
   "mimetype": "text/x-python",
   "name": "python",
   "nbconvert_exporter": "python",
   "pygments_lexer": "ipython3",
   "version": "3.12.8"
  }
 },
 "nbformat": 4,
 "nbformat_minor": 2
}
