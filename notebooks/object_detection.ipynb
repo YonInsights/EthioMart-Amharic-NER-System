{
 "cells": [
  {
   "cell_type": "code",
   "execution_count": 5,
   "metadata": {},
   "outputs": [],
   "source": [
    "# Import necessary libraries\n",
    "import sys\n",
    "import os\n",
    "# Ensure src/ is in the Python path\n",
    "sys.path.append(os.path.abspath(\"../src\"))\n",
    "# Set correct input directory path for object detection\n",
    "INPUT_DIR = r\"D:\\Kifya_training\\Week 7\\EthioMart-Amharic-NER-System\\data\\processed\\images\"\n"
   ]
  },
  {
   "cell_type": "code",
   "execution_count": null,
   "metadata": {},
   "outputs": [
    {
     "name": "stdout",
     "output_type": "stream",
     "text": [
      "\n",
      "image 1/1 D:\\Kifya_training\\Week 7\\EthioMart-Amharic-NER-System\\data\\processed\\images\\CheMed123_10.jpg: 640x640 (no detections), 1370.0ms\n",
      "Speed: 28.7ms preprocess, 1370.0ms inference, 28.6ms postprocess per image at shape (1, 3, 640, 640)\n"
     ]
    },
    {
     "name": "stderr",
     "output_type": "stream",
     "text": [
      "2025-01-30 22:21:10,459 - INFO - Detection saved for CheMed123_10.jpg\n"
     ]
    },
    {
     "name": "stdout",
     "output_type": "stream",
     "text": [
      "\n",
      "image 1/1 D:\\Kifya_training\\Week 7\\EthioMart-Amharic-NER-System\\data\\processed\\images\\CheMed123_11.jpg: 640x640 (no detections), 1148.9ms\n",
      "Speed: 36.6ms preprocess, 1148.9ms inference, 2.0ms postprocess per image at shape (1, 3, 640, 640)\n"
     ]
    },
    {
     "name": "stderr",
     "output_type": "stream",
     "text": [
      "2025-01-30 22:21:11,709 - INFO - Detection saved for CheMed123_11.jpg\n"
     ]
    },
    {
     "name": "stdout",
     "output_type": "stream",
     "text": [
      "\n",
      "image 1/1 D:\\Kifya_training\\Week 7\\EthioMart-Amharic-NER-System\\data\\processed\\images\\CheMed123_13.jpg: 640x640 (no detections), 1251.3ms\n",
      "Speed: 17.1ms preprocess, 1251.3ms inference, 2.0ms postprocess per image at shape (1, 3, 640, 640)\n"
     ]
    },
    {
     "name": "stderr",
     "output_type": "stream",
     "text": [
      "2025-01-30 22:21:13,081 - INFO - Detection saved for CheMed123_13.jpg\n"
     ]
    },
    {
     "name": "stdout",
     "output_type": "stream",
     "text": [
      "\n",
      "image 1/1 D:\\Kifya_training\\Week 7\\EthioMart-Amharic-NER-System\\data\\processed\\images\\CheMed123_14.jpg: 640x640 (no detections), 2440.2ms\n",
      "Speed: 21.0ms preprocess, 2440.2ms inference, 4.1ms postprocess per image at shape (1, 3, 640, 640)\n"
     ]
    },
    {
     "name": "stderr",
     "output_type": "stream",
     "text": [
      "2025-01-30 22:21:15,668 - INFO - Detection saved for CheMed123_14.jpg\n"
     ]
    },
    {
     "name": "stdout",
     "output_type": "stream",
     "text": [
      "\n",
      "image 1/1 D:\\Kifya_training\\Week 7\\EthioMart-Amharic-NER-System\\data\\processed\\images\\CheMed123_15.jpg: 640x640 (no detections), 1235.1ms\n",
      "Speed: 31.9ms preprocess, 1235.1ms inference, 4.1ms postprocess per image at shape (1, 3, 640, 640)\n"
     ]
    },
    {
     "name": "stderr",
     "output_type": "stream",
     "text": [
      "2025-01-30 22:21:17,030 - INFO - Detection saved for CheMed123_15.jpg\n"
     ]
    },
    {
     "name": "stdout",
     "output_type": "stream",
     "text": [
      "\n",
      "image 1/1 D:\\Kifya_training\\Week 7\\EthioMart-Amharic-NER-System\\data\\processed\\images\\CheMed123_17.jpg: 640x640 9 bottles, 1371.6ms\n",
      "Speed: 26.8ms preprocess, 1371.6ms inference, 25.4ms postprocess per image at shape (1, 3, 640, 640)\n"
     ]
    },
    {
     "name": "stderr",
     "output_type": "stream",
     "text": [
      "2025-01-30 22:21:18,678 - INFO - Detection saved for CheMed123_17.jpg\n"
     ]
    },
    {
     "name": "stdout",
     "output_type": "stream",
     "text": [
      "\n",
      "image 1/1 D:\\Kifya_training\\Week 7\\EthioMart-Amharic-NER-System\\data\\processed\\images\\CheMed123_18.jpg: 640x640 (no detections), 1985.3ms\n",
      "Speed: 25.6ms preprocess, 1985.3ms inference, 3.0ms postprocess per image at shape (1, 3, 640, 640)\n"
     ]
    },
    {
     "name": "stderr",
     "output_type": "stream",
     "text": [
      "2025-01-30 22:21:20,810 - INFO - Detection saved for CheMed123_18.jpg\n"
     ]
    },
    {
     "name": "stdout",
     "output_type": "stream",
     "text": [
      "\n",
      "image 1/1 D:\\Kifya_training\\Week 7\\EthioMart-Amharic-NER-System\\data\\processed\\images\\CheMed123_19.jpg: 640x640 2 persons, 2 chairs, 1450.9ms\n",
      "Speed: 18.1ms preprocess, 1450.9ms inference, 6.6ms postprocess per image at shape (1, 3, 640, 640)\n"
     ]
    },
    {
     "name": "stderr",
     "output_type": "stream",
     "text": [
      "2025-01-30 22:21:22,403 - INFO - Detection saved for CheMed123_19.jpg\n"
     ]
    },
    {
     "name": "stdout",
     "output_type": "stream",
     "text": [
      "\n",
      "image 1/1 D:\\Kifya_training\\Week 7\\EthioMart-Amharic-NER-System\\data\\processed\\images\\CheMed123_2.jpg: 640x640 1 cake, 1259.4ms\n",
      "Speed: 28.2ms preprocess, 1259.4ms inference, 8.1ms postprocess per image at shape (1, 3, 640, 640)\n"
     ]
    },
    {
     "name": "stderr",
     "output_type": "stream",
     "text": [
      "2025-01-30 22:21:23,782 - INFO - Detection saved for CheMed123_2.jpg\n"
     ]
    },
    {
     "name": "stdout",
     "output_type": "stream",
     "text": [
      "\n",
      "image 1/1 D:\\Kifya_training\\Week 7\\EthioMart-Amharic-NER-System\\data\\processed\\images\\CheMed123_20.jpg: 640x640 2 persons, 2 chairs, 1129.7ms\n",
      "Speed: 20.2ms preprocess, 1129.7ms inference, 4.4ms postprocess per image at shape (1, 3, 640, 640)\n"
     ]
    },
    {
     "name": "stderr",
     "output_type": "stream",
     "text": [
      "2025-01-30 22:21:25,032 - INFO - Detection saved for CheMed123_20.jpg\n"
     ]
    },
    {
     "name": "stdout",
     "output_type": "stream",
     "text": [
      "\n",
      "image 1/1 D:\\Kifya_training\\Week 7\\EthioMart-Amharic-NER-System\\data\\processed\\images\\CheMed123_21.jpg: 640x640 (no detections), 1204.9ms\n",
      "Speed: 23.0ms preprocess, 1204.9ms inference, 2.0ms postprocess per image at shape (1, 3, 640, 640)\n"
     ]
    },
    {
     "name": "stderr",
     "output_type": "stream",
     "text": [
      "2025-01-30 22:21:26,341 - INFO - Detection saved for CheMed123_21.jpg\n"
     ]
    },
    {
     "name": "stdout",
     "output_type": "stream",
     "text": [
      "\n",
      "image 1/1 D:\\Kifya_training\\Week 7\\EthioMart-Amharic-NER-System\\data\\processed\\images\\CheMed123_22.jpg: 640x640 1 remote, 2 cell phones, 1368.1ms\n",
      "Speed: 61.5ms preprocess, 1368.1ms inference, 6.1ms postprocess per image at shape (1, 3, 640, 640)\n"
     ]
    },
    {
     "name": "stderr",
     "output_type": "stream",
     "text": [
      "2025-01-30 22:21:27,902 - INFO - Detection saved for CheMed123_22.jpg\n"
     ]
    },
    {
     "name": "stdout",
     "output_type": "stream",
     "text": [
      "\n",
      "image 1/1 D:\\Kifya_training\\Week 7\\EthioMart-Amharic-NER-System\\data\\processed\\images\\CheMed123_23.jpg: 640x640 1 bottle, 1 cell phone, 1159.5ms\n",
      "Speed: 37.5ms preprocess, 1159.5ms inference, 8.2ms postprocess per image at shape (1, 3, 640, 640)\n"
     ]
    },
    {
     "name": "stderr",
     "output_type": "stream",
     "text": [
      "2025-01-30 22:21:29,206 - INFO - Detection saved for CheMed123_23.jpg\n"
     ]
    },
    {
     "name": "stdout",
     "output_type": "stream",
     "text": [
      "\n",
      "image 1/1 D:\\Kifya_training\\Week 7\\EthioMart-Amharic-NER-System\\data\\processed\\images\\CheMed123_25.jpg: 640x640 2 persons, 1 cell phone, 1211.8ms\n",
      "Speed: 16.7ms preprocess, 1211.8ms inference, 3.7ms postprocess per image at shape (1, 3, 640, 640)\n"
     ]
    },
    {
     "name": "stderr",
     "output_type": "stream",
     "text": [
      "2025-01-30 22:21:30,547 - INFO - Detection saved for CheMed123_25.jpg\n"
     ]
    },
    {
     "name": "stdout",
     "output_type": "stream",
     "text": [
      "\n",
      "image 1/1 D:\\Kifya_training\\Week 7\\EthioMart-Amharic-NER-System\\data\\processed\\images\\CheMed123_26.jpg: 640x640 (no detections), 1071.5ms\n",
      "Speed: 31.7ms preprocess, 1071.5ms inference, 2.0ms postprocess per image at shape (1, 3, 640, 640)\n"
     ]
    },
    {
     "name": "stderr",
     "output_type": "stream",
     "text": [
      "2025-01-30 22:21:31,736 - INFO - Detection saved for CheMed123_26.jpg\n"
     ]
    },
    {
     "name": "stdout",
     "output_type": "stream",
     "text": [
      "\n",
      "image 1/1 D:\\Kifya_training\\Week 7\\EthioMart-Amharic-NER-System\\data\\processed\\images\\CheMed123_27.jpg: 640x640 (no detections), 1192.6ms\n",
      "Speed: 20.5ms preprocess, 1192.6ms inference, 3.0ms postprocess per image at shape (1, 3, 640, 640)\n"
     ]
    },
    {
     "name": "stderr",
     "output_type": "stream",
     "text": [
      "2025-01-30 22:21:33,076 - INFO - Detection saved for CheMed123_27.jpg\n"
     ]
    },
    {
     "name": "stdout",
     "output_type": "stream",
     "text": [
      "\n",
      "image 1/1 D:\\Kifya_training\\Week 7\\EthioMart-Amharic-NER-System\\data\\processed\\images\\CheMed123_29.jpg: 640x640 1 person, 1 laptop, 1173.0ms\n",
      "Speed: 16.6ms preprocess, 1173.0ms inference, 4.0ms postprocess per image at shape (1, 3, 640, 640)\n"
     ]
    },
    {
     "name": "stderr",
     "output_type": "stream",
     "text": [
      "2025-01-30 22:21:34,377 - INFO - Detection saved for CheMed123_29.jpg\n"
     ]
    },
    {
     "name": "stdout",
     "output_type": "stream",
     "text": [
      "\n",
      "image 1/1 D:\\Kifya_training\\Week 7\\EthioMart-Amharic-NER-System\\data\\processed\\images\\CheMed123_3.jpg: 640x640 (no detections), 1260.3ms\n",
      "Speed: 21.7ms preprocess, 1260.3ms inference, 2.0ms postprocess per image at shape (1, 3, 640, 640)\n"
     ]
    },
    {
     "name": "stderr",
     "output_type": "stream",
     "text": [
      "2025-01-30 22:21:35,739 - INFO - Detection saved for CheMed123_3.jpg\n"
     ]
    },
    {
     "name": "stdout",
     "output_type": "stream",
     "text": [
      "\n",
      "image 1/1 D:\\Kifya_training\\Week 7\\EthioMart-Amharic-NER-System\\data\\processed\\images\\CheMed123_30.jpg: 640x640 1 clock, 1102.5ms\n",
      "Speed: 30.2ms preprocess, 1102.5ms inference, 6.4ms postprocess per image at shape (1, 3, 640, 640)\n"
     ]
    },
    {
     "name": "stderr",
     "output_type": "stream",
     "text": [
      "2025-01-30 22:21:36,968 - INFO - Detection saved for CheMed123_30.jpg\n"
     ]
    },
    {
     "name": "stdout",
     "output_type": "stream",
     "text": [
      "\n",
      "image 1/1 D:\\Kifya_training\\Week 7\\EthioMart-Amharic-NER-System\\data\\processed\\images\\CheMed123_31.jpg: 640x640 7 bottles, 1617.4ms\n",
      "Speed: 16.0ms preprocess, 1617.4ms inference, 6.7ms postprocess per image at shape (1, 3, 640, 640)\n"
     ]
    },
    {
     "name": "stderr",
     "output_type": "stream",
     "text": [
      "2025-01-30 22:21:38,688 - INFO - Detection saved for CheMed123_31.jpg\n"
     ]
    },
    {
     "name": "stdout",
     "output_type": "stream",
     "text": [
      "\n",
      "image 1/1 D:\\Kifya_training\\Week 7\\EthioMart-Amharic-NER-System\\data\\processed\\images\\CheMed123_32.jpg: 640x640 (no detections), 1095.9ms\n",
      "Speed: 16.4ms preprocess, 1095.9ms inference, 2.6ms postprocess per image at shape (1, 3, 640, 640)\n"
     ]
    },
    {
     "name": "stderr",
     "output_type": "stream",
     "text": [
      "2025-01-30 22:21:39,897 - INFO - Detection saved for CheMed123_32.jpg\n"
     ]
    },
    {
     "name": "stdout",
     "output_type": "stream",
     "text": [
      "\n",
      "image 1/1 D:\\Kifya_training\\Week 7\\EthioMart-Amharic-NER-System\\data\\processed\\images\\CheMed123_33.jpg: 640x640 4 oranges, 1 book, 1238.8ms\n",
      "Speed: 32.1ms preprocess, 1238.8ms inference, 5.0ms postprocess per image at shape (1, 3, 640, 640)\n"
     ]
    },
    {
     "name": "stderr",
     "output_type": "stream",
     "text": [
      "2025-01-30 22:21:41,268 - INFO - Detection saved for CheMed123_33.jpg\n"
     ]
    },
    {
     "name": "stdout",
     "output_type": "stream",
     "text": [
      "\n",
      "image 1/1 D:\\Kifya_training\\Week 7\\EthioMart-Amharic-NER-System\\data\\processed\\images\\CheMed123_34.jpg: 640x640 (no detections), 1124.5ms\n",
      "Speed: 26.0ms preprocess, 1124.5ms inference, 6.7ms postprocess per image at shape (1, 3, 640, 640)\n"
     ]
    },
    {
     "name": "stderr",
     "output_type": "stream",
     "text": [
      "2025-01-30 22:21:42,516 - INFO - Detection saved for CheMed123_34.jpg\n"
     ]
    },
    {
     "name": "stdout",
     "output_type": "stream",
     "text": [
      "\n",
      "image 1/1 D:\\Kifya_training\\Week 7\\EthioMart-Amharic-NER-System\\data\\processed\\images\\CheMed123_38.jpg: 640x640 (no detections), 1200.7ms\n",
      "Speed: 51.5ms preprocess, 1200.7ms inference, 3.9ms postprocess per image at shape (1, 3, 640, 640)\n"
     ]
    },
    {
     "name": "stderr",
     "output_type": "stream",
     "text": [
      "2025-01-30 22:21:43,863 - INFO - Detection saved for CheMed123_38.jpg\n"
     ]
    },
    {
     "name": "stdout",
     "output_type": "stream",
     "text": [
      "\n",
      "image 1/1 D:\\Kifya_training\\Week 7\\EthioMart-Amharic-NER-System\\data\\processed\\images\\CheMed123_39.jpg: 640x640 2 mouses, 1094.8ms\n",
      "Speed: 22.5ms preprocess, 1094.8ms inference, 4.1ms postprocess per image at shape (1, 3, 640, 640)\n"
     ]
    },
    {
     "name": "stderr",
     "output_type": "stream",
     "text": [
      "2025-01-30 22:21:45,093 - INFO - Detection saved for CheMed123_39.jpg\n"
     ]
    },
    {
     "name": "stdout",
     "output_type": "stream",
     "text": [
      "\n",
      "image 1/1 D:\\Kifya_training\\Week 7\\EthioMart-Amharic-NER-System\\data\\processed\\images\\CheMed123_40.jpg: 640x640 2 persons, 1162.7ms\n",
      "Speed: 50.6ms preprocess, 1162.7ms inference, 4.1ms postprocess per image at shape (1, 3, 640, 640)\n"
     ]
    },
    {
     "name": "stderr",
     "output_type": "stream",
     "text": [
      "2025-01-30 22:21:46,419 - INFO - Detection saved for CheMed123_40.jpg\n"
     ]
    },
    {
     "name": "stdout",
     "output_type": "stream",
     "text": [
      "\n",
      "image 1/1 D:\\Kifya_training\\Week 7\\EthioMart-Amharic-NER-System\\data\\processed\\images\\CheMed123_41.jpg: 640x640 1 person, 1 remote, 1415.0ms\n",
      "Speed: 23.2ms preprocess, 1415.0ms inference, 10.3ms postprocess per image at shape (1, 3, 640, 640)\n"
     ]
    },
    {
     "name": "stderr",
     "output_type": "stream",
     "text": [
      "2025-01-30 22:21:47,970 - INFO - Detection saved for CheMed123_41.jpg\n"
     ]
    },
    {
     "name": "stdout",
     "output_type": "stream",
     "text": [
      "\n",
      "image 1/1 D:\\Kifya_training\\Week 7\\EthioMart-Amharic-NER-System\\data\\processed\\images\\CheMed123_43.jpg: 640x640 1 person, 2 chairs, 1 keyboard, 1148.1ms\n",
      "Speed: 29.8ms preprocess, 1148.1ms inference, 3.5ms postprocess per image at shape (1, 3, 640, 640)\n"
     ]
    },
    {
     "name": "stderr",
     "output_type": "stream",
     "text": [
      "2025-01-30 22:21:49,246 - INFO - Detection saved for CheMed123_43.jpg\n"
     ]
    },
    {
     "name": "stdout",
     "output_type": "stream",
     "text": [
      "\n",
      "image 1/1 D:\\Kifya_training\\Week 7\\EthioMart-Amharic-NER-System\\data\\processed\\images\\CheMed123_44.jpg: 640x640 1 person, 1 cell phone, 1209.9ms\n",
      "Speed: 34.9ms preprocess, 1209.9ms inference, 2.1ms postprocess per image at shape (1, 3, 640, 640)\n"
     ]
    },
    {
     "name": "stderr",
     "output_type": "stream",
     "text": [
      "2025-01-30 22:21:50,590 - INFO - Detection saved for CheMed123_44.jpg\n"
     ]
    },
    {
     "name": "stdout",
     "output_type": "stream",
     "text": [
      "\n",
      "image 1/1 D:\\Kifya_training\\Week 7\\EthioMart-Amharic-NER-System\\data\\processed\\images\\CheMed123_45.jpg: 640x640 (no detections), 1093.6ms\n",
      "Speed: 22.6ms preprocess, 1093.6ms inference, 2.0ms postprocess per image at shape (1, 3, 640, 640)\n"
     ]
    },
    {
     "name": "stderr",
     "output_type": "stream",
     "text": [
      "2025-01-30 22:21:51,793 - INFO - Detection saved for CheMed123_45.jpg\n"
     ]
    },
    {
     "name": "stdout",
     "output_type": "stream",
     "text": [
      "\n",
      "image 1/1 D:\\Kifya_training\\Week 7\\EthioMart-Amharic-NER-System\\data\\processed\\images\\CheMed123_46.jpg: 640x640 2 persons, 1 tv, 1 toothbrush, 1320.2ms\n",
      "Speed: 28.2ms preprocess, 1320.2ms inference, 4.1ms postprocess per image at shape (1, 3, 640, 640)\n"
     ]
    },
    {
     "name": "stderr",
     "output_type": "stream",
     "text": [
      "2025-01-30 22:21:53,271 - INFO - Detection saved for CheMed123_46.jpg\n"
     ]
    },
    {
     "name": "stdout",
     "output_type": "stream",
     "text": [
      "\n",
      "image 1/1 D:\\Kifya_training\\Week 7\\EthioMart-Amharic-NER-System\\data\\processed\\images\\CheMed123_48.jpg: 640x640 (no detections), 1222.7ms\n",
      "Speed: 33.0ms preprocess, 1222.7ms inference, 2.0ms postprocess per image at shape (1, 3, 640, 640)\n"
     ]
    },
    {
     "name": "stderr",
     "output_type": "stream",
     "text": [
      "2025-01-30 22:21:54,629 - INFO - Detection saved for CheMed123_48.jpg\n"
     ]
    },
    {
     "name": "stdout",
     "output_type": "stream",
     "text": [
      "\n",
      "image 1/1 D:\\Kifya_training\\Week 7\\EthioMart-Amharic-NER-System\\data\\processed\\images\\CheMed123_49.jpg: 640x640 1 kite, 1 cup, 1301.0ms\n",
      "Speed: 24.0ms preprocess, 1301.0ms inference, 4.1ms postprocess per image at shape (1, 3, 640, 640)\n"
     ]
    },
    {
     "name": "stderr",
     "output_type": "stream",
     "text": [
      "2025-01-30 22:21:56,052 - INFO - Detection saved for CheMed123_49.jpg\n"
     ]
    },
    {
     "name": "stdout",
     "output_type": "stream",
     "text": [
      "\n",
      "image 1/1 D:\\Kifya_training\\Week 7\\EthioMart-Amharic-NER-System\\data\\processed\\images\\CheMed123_50.jpg: 640x640 1 airplane, 1453.7ms\n",
      "Speed: 46.4ms preprocess, 1453.7ms inference, 4.8ms postprocess per image at shape (1, 3, 640, 640)\n"
     ]
    },
    {
     "name": "stderr",
     "output_type": "stream",
     "text": [
      "2025-01-30 22:21:57,642 - INFO - Detection saved for CheMed123_50.jpg\n"
     ]
    },
    {
     "name": "stdout",
     "output_type": "stream",
     "text": [
      "\n",
      "image 1/1 D:\\Kifya_training\\Week 7\\EthioMart-Amharic-NER-System\\data\\processed\\images\\CheMed123_52.jpg: 640x640 5 persons, 1 horse, 1 tie, 1172.7ms\n",
      "Speed: 49.1ms preprocess, 1172.7ms inference, 4.5ms postprocess per image at shape (1, 3, 640, 640)\n"
     ]
    },
    {
     "name": "stderr",
     "output_type": "stream",
     "text": [
      "2025-01-30 22:21:58,982 - INFO - Detection saved for CheMed123_52.jpg\n"
     ]
    },
    {
     "name": "stdout",
     "output_type": "stream",
     "text": [
      "\n",
      "image 1/1 D:\\Kifya_training\\Week 7\\EthioMart-Amharic-NER-System\\data\\processed\\images\\CheMed123_53.jpg: 640x640 (no detections), 1281.6ms\n",
      "Speed: 21.2ms preprocess, 1281.6ms inference, 5.5ms postprocess per image at shape (1, 3, 640, 640)\n"
     ]
    },
    {
     "name": "stderr",
     "output_type": "stream",
     "text": [
      "2025-01-30 22:22:00,394 - INFO - Detection saved for CheMed123_53.jpg\n"
     ]
    },
    {
     "name": "stdout",
     "output_type": "stream",
     "text": [
      "\n",
      "image 1/1 D:\\Kifya_training\\Week 7\\EthioMart-Amharic-NER-System\\data\\processed\\images\\CheMed123_55.jpg: 640x640 1 stop sign, 1117.0ms\n",
      "Speed: 18.0ms preprocess, 1117.0ms inference, 4.0ms postprocess per image at shape (1, 3, 640, 640)\n"
     ]
    },
    {
     "name": "stderr",
     "output_type": "stream",
     "text": [
      "2025-01-30 22:22:01,627 - INFO - Detection saved for CheMed123_55.jpg\n"
     ]
    },
    {
     "name": "stdout",
     "output_type": "stream",
     "text": [
      "\n",
      "image 1/1 D:\\Kifya_training\\Week 7\\EthioMart-Amharic-NER-System\\data\\processed\\images\\CheMed123_56.jpg: 640x640 1 person, 1178.0ms\n",
      "Speed: 12.0ms preprocess, 1178.0ms inference, 2.0ms postprocess per image at shape (1, 3, 640, 640)\n"
     ]
    },
    {
     "name": "stderr",
     "output_type": "stream",
     "text": [
      "2025-01-30 22:22:02,913 - INFO - Detection saved for CheMed123_56.jpg\n"
     ]
    },
    {
     "name": "stdout",
     "output_type": "stream",
     "text": [
      "\n",
      "image 1/1 D:\\Kifya_training\\Week 7\\EthioMart-Amharic-NER-System\\data\\processed\\images\\CheMed123_58.jpg: 640x640 1 cake, 2512.8ms\n",
      "Speed: 71.3ms preprocess, 2512.8ms inference, 5.6ms postprocess per image at shape (1, 3, 640, 640)\n"
     ]
    },
    {
     "name": "stderr",
     "output_type": "stream",
     "text": [
      "2025-01-30 22:22:05,599 - INFO - Detection saved for CheMed123_58.jpg\n"
     ]
    },
    {
     "name": "stdout",
     "output_type": "stream",
     "text": [
      "\n",
      "image 1/1 D:\\Kifya_training\\Week 7\\EthioMart-Amharic-NER-System\\data\\processed\\images\\CheMed123_59.jpg: 640x640 1 bottle, 1311.2ms\n",
      "Speed: 42.2ms preprocess, 1311.2ms inference, 6.1ms postprocess per image at shape (1, 3, 640, 640)\n"
     ]
    },
    {
     "name": "stderr",
     "output_type": "stream",
     "text": [
      "2025-01-30 22:22:07,074 - INFO - Detection saved for CheMed123_59.jpg\n"
     ]
    },
    {
     "name": "stdout",
     "output_type": "stream",
     "text": [
      "\n",
      "image 1/1 D:\\Kifya_training\\Week 7\\EthioMart-Amharic-NER-System\\data\\processed\\images\\CheMed123_60.jpg: 640x640 (no detections), 1601.8ms\n",
      "Speed: 22.7ms preprocess, 1601.8ms inference, 4.1ms postprocess per image at shape (1, 3, 640, 640)\n"
     ]
    },
    {
     "name": "stderr",
     "output_type": "stream",
     "text": [
      "2025-01-30 22:22:08,817 - INFO - Detection saved for CheMed123_60.jpg\n"
     ]
    },
    {
     "name": "stdout",
     "output_type": "stream",
     "text": [
      "\n",
      "image 1/1 D:\\Kifya_training\\Week 7\\EthioMart-Amharic-NER-System\\data\\processed\\images\\CheMed123_64.jpg: 640x640 2 persons, 1 bed, 1360.4ms\n",
      "Speed: 19.3ms preprocess, 1360.4ms inference, 21.5ms postprocess per image at shape (1, 3, 640, 640)\n"
     ]
    },
    {
     "name": "stderr",
     "output_type": "stream",
     "text": [
      "2025-01-30 22:22:10,351 - INFO - Detection saved for CheMed123_64.jpg\n"
     ]
    },
    {
     "name": "stdout",
     "output_type": "stream",
     "text": [
      "\n",
      "image 1/1 D:\\Kifya_training\\Week 7\\EthioMart-Amharic-NER-System\\data\\processed\\images\\CheMed123_67.jpg: 640x640 1 stop sign, 3299.7ms\n",
      "Speed: 85.1ms preprocess, 3299.7ms inference, 10.4ms postprocess per image at shape (1, 3, 640, 640)\n"
     ]
    },
    {
     "name": "stderr",
     "output_type": "stream",
     "text": [
      "2025-01-30 22:22:14,026 - INFO - Detection saved for CheMed123_67.jpg\n"
     ]
    },
    {
     "name": "stdout",
     "output_type": "stream",
     "text": [
      "\n",
      "image 1/1 D:\\Kifya_training\\Week 7\\EthioMart-Amharic-NER-System\\data\\processed\\images\\CheMed123_70.jpg: 640x640 1 person, 2 potted plants, 1 tv, 1 book, 3555.9ms\n",
      "Speed: 43.6ms preprocess, 3555.9ms inference, 6.1ms postprocess per image at shape (1, 3, 640, 640)\n"
     ]
    },
    {
     "name": "stderr",
     "output_type": "stream",
     "text": [
      "2025-01-30 22:22:17,778 - INFO - Detection saved for CheMed123_70.jpg\n"
     ]
    },
    {
     "name": "stdout",
     "output_type": "stream",
     "text": [
      "\n",
      "image 1/1 D:\\Kifya_training\\Week 7\\EthioMart-Amharic-NER-System\\data\\processed\\images\\CheMed123_71.jpg: 640x640 2 persons, 1 backpack, 1332.4ms\n",
      "Speed: 18.4ms preprocess, 1332.4ms inference, 3.8ms postprocess per image at shape (1, 3, 640, 640)\n"
     ]
    },
    {
     "name": "stderr",
     "output_type": "stream",
     "text": [
      "2025-01-30 22:22:19,230 - INFO - Detection saved for CheMed123_71.jpg\n"
     ]
    },
    {
     "name": "stdout",
     "output_type": "stream",
     "text": [
      "\n",
      "image 1/1 D:\\Kifya_training\\Week 7\\EthioMart-Amharic-NER-System\\data\\processed\\images\\CheMed123_74.jpg: 640x640 1 toothbrush, 1348.3ms\n",
      "Speed: 25.2ms preprocess, 1348.3ms inference, 2.1ms postprocess per image at shape (1, 3, 640, 640)\n"
     ]
    },
    {
     "name": "stderr",
     "output_type": "stream",
     "text": [
      "2025-01-30 22:22:20,701 - INFO - Detection saved for CheMed123_74.jpg\n"
     ]
    },
    {
     "name": "stdout",
     "output_type": "stream",
     "text": [
      "\n",
      "image 1/1 D:\\Kifya_training\\Week 7\\EthioMart-Amharic-NER-System\\data\\processed\\images\\CheMed123_75.jpg: 640x640 1 person, 1230.1ms\n",
      "Speed: 38.5ms preprocess, 1230.1ms inference, 3.8ms postprocess per image at shape (1, 3, 640, 640)\n"
     ]
    },
    {
     "name": "stderr",
     "output_type": "stream",
     "text": [
      "2025-01-30 22:22:22,083 - INFO - Detection saved for CheMed123_75.jpg\n"
     ]
    },
    {
     "name": "stdout",
     "output_type": "stream",
     "text": [
      "\n",
      "image 1/1 D:\\Kifya_training\\Week 7\\EthioMart-Amharic-NER-System\\data\\processed\\images\\CheMed123_76.jpg: 640x640 1 person, 2 benchs, 1 chair, 2275.3ms\n",
      "Speed: 102.3ms preprocess, 2275.3ms inference, 5.2ms postprocess per image at shape (1, 3, 640, 640)\n"
     ]
    },
    {
     "name": "stderr",
     "output_type": "stream",
     "text": [
      "2025-01-30 22:22:24,630 - INFO - Detection saved for CheMed123_76.jpg\n"
     ]
    },
    {
     "name": "stdout",
     "output_type": "stream",
     "text": [
      "\n",
      "image 1/1 D:\\Kifya_training\\Week 7\\EthioMart-Amharic-NER-System\\data\\processed\\images\\CheMed123_77.jpg: 640x640 4 bottles, 1372.7ms\n",
      "Speed: 30.1ms preprocess, 1372.7ms inference, 6.1ms postprocess per image at shape (1, 3, 640, 640)\n"
     ]
    },
    {
     "name": "stderr",
     "output_type": "stream",
     "text": [
      "2025-01-30 22:22:26,158 - INFO - Detection saved for CheMed123_77.jpg\n"
     ]
    },
    {
     "name": "stdout",
     "output_type": "stream",
     "text": [
      "\n",
      "image 1/1 D:\\Kifya_training\\Week 7\\EthioMart-Amharic-NER-System\\data\\processed\\images\\CheMed123_78.jpg: 640x640 2 persons, 2352.3ms\n",
      "Speed: 46.8ms preprocess, 2352.3ms inference, 8.1ms postprocess per image at shape (1, 3, 640, 640)\n"
     ]
    },
    {
     "name": "stderr",
     "output_type": "stream",
     "text": [
      "2025-01-30 22:22:28,759 - INFO - Detection saved for CheMed123_78.jpg\n"
     ]
    },
    {
     "name": "stdout",
     "output_type": "stream",
     "text": [
      "\n",
      "image 1/1 D:\\Kifya_training\\Week 7\\EthioMart-Amharic-NER-System\\data\\processed\\images\\CheMed123_79.jpg: 640x640 1 potted plant, 1312.3ms\n",
      "Speed: 32.2ms preprocess, 1312.3ms inference, 4.1ms postprocess per image at shape (1, 3, 640, 640)\n"
     ]
    },
    {
     "name": "stderr",
     "output_type": "stream",
     "text": [
      "2025-01-30 22:22:30,210 - INFO - Detection saved for CheMed123_79.jpg\n"
     ]
    },
    {
     "name": "stdout",
     "output_type": "stream",
     "text": [
      "\n",
      "image 1/1 D:\\Kifya_training\\Week 7\\EthioMart-Amharic-NER-System\\data\\processed\\images\\CheMed123_80.jpg: 640x640 1 person, 1 bottle, 1 chair, 2 potted plants, 1307.9ms\n",
      "Speed: 19.0ms preprocess, 1307.9ms inference, 3.6ms postprocess per image at shape (1, 3, 640, 640)\n"
     ]
    },
    {
     "name": "stderr",
     "output_type": "stream",
     "text": [
      "2025-01-30 22:22:31,644 - INFO - Detection saved for CheMed123_80.jpg\n"
     ]
    },
    {
     "name": "stdout",
     "output_type": "stream",
     "text": [
      "\n",
      "image 1/1 D:\\Kifya_training\\Week 7\\EthioMart-Amharic-NER-System\\data\\processed\\images\\CheMed123_81.jpg: 640x640 5 bottles, 1243.8ms\n",
      "Speed: 29.7ms preprocess, 1243.8ms inference, 4.6ms postprocess per image at shape (1, 3, 640, 640)\n"
     ]
    },
    {
     "name": "stderr",
     "output_type": "stream",
     "text": [
      "2025-01-30 22:22:33,033 - INFO - Detection saved for CheMed123_81.jpg\n"
     ]
    },
    {
     "name": "stdout",
     "output_type": "stream",
     "text": [
      "\n",
      "image 1/1 D:\\Kifya_training\\Week 7\\EthioMart-Amharic-NER-System\\data\\processed\\images\\CheMed123_82.jpg: 640x640 5 bottles, 1158.2ms\n",
      "Speed: 20.9ms preprocess, 1158.2ms inference, 4.1ms postprocess per image at shape (1, 3, 640, 640)\n"
     ]
    },
    {
     "name": "stderr",
     "output_type": "stream",
     "text": [
      "2025-01-30 22:22:34,343 - INFO - Detection saved for CheMed123_82.jpg\n"
     ]
    },
    {
     "name": "stdout",
     "output_type": "stream",
     "text": [
      "\n",
      "image 1/1 D:\\Kifya_training\\Week 7\\EthioMart-Amharic-NER-System\\data\\processed\\images\\CheMed123_85.jpg: 640x640 (no detections), 1528.4ms\n",
      "Speed: 27.6ms preprocess, 1528.4ms inference, 5.7ms postprocess per image at shape (1, 3, 640, 640)\n"
     ]
    },
    {
     "name": "stderr",
     "output_type": "stream",
     "text": [
      "2025-01-30 22:22:36,008 - INFO - Detection saved for CheMed123_85.jpg\n"
     ]
    },
    {
     "name": "stdout",
     "output_type": "stream",
     "text": [
      "\n",
      "image 1/1 D:\\Kifya_training\\Week 7\\EthioMart-Amharic-NER-System\\data\\processed\\images\\CheMed123_86.jpg: 640x640 1 person, 1241.9ms\n",
      "Speed: 13.9ms preprocess, 1241.9ms inference, 4.1ms postprocess per image at shape (1, 3, 640, 640)\n"
     ]
    },
    {
     "name": "stderr",
     "output_type": "stream",
     "text": [
      "2025-01-30 22:22:37,358 - INFO - Detection saved for CheMed123_86.jpg\n"
     ]
    },
    {
     "name": "stdout",
     "output_type": "stream",
     "text": [
      "\n",
      "image 1/1 D:\\Kifya_training\\Week 7\\EthioMart-Amharic-NER-System\\data\\processed\\images\\CheMed123_87.jpg: 640x640 (no detections), 1779.0ms\n",
      "Speed: 14.0ms preprocess, 1779.0ms inference, 6.1ms postprocess per image at shape (1, 3, 640, 640)\n"
     ]
    },
    {
     "name": "stderr",
     "output_type": "stream",
     "text": [
      "2025-01-30 22:22:39,253 - INFO - Detection saved for CheMed123_87.jpg\n"
     ]
    },
    {
     "name": "stdout",
     "output_type": "stream",
     "text": [
      "\n",
      "image 1/1 D:\\Kifya_training\\Week 7\\EthioMart-Amharic-NER-System\\data\\processed\\images\\CheMed123_88.jpg: 640x640 1 bottle, 1448.1ms\n",
      "Speed: 34.5ms preprocess, 1448.1ms inference, 6.1ms postprocess per image at shape (1, 3, 640, 640)\n"
     ]
    },
    {
     "name": "stderr",
     "output_type": "stream",
     "text": [
      "2025-01-30 22:22:40,844 - INFO - Detection saved for CheMed123_88.jpg\n"
     ]
    },
    {
     "name": "stdout",
     "output_type": "stream",
     "text": [
      "\n",
      "image 1/1 D:\\Kifya_training\\Week 7\\EthioMart-Amharic-NER-System\\data\\processed\\images\\CheMed123_9.jpg: 640x640 1 cake, 1303.4ms\n",
      "Speed: 36.0ms preprocess, 1303.4ms inference, 4.6ms postprocess per image at shape (1, 3, 640, 640)\n"
     ]
    },
    {
     "name": "stderr",
     "output_type": "stream",
     "text": [
      "2025-01-30 22:22:42,281 - INFO - Detection saved for CheMed123_9.jpg\n"
     ]
    },
    {
     "name": "stdout",
     "output_type": "stream",
     "text": [
      "\n",
      "image 1/1 D:\\Kifya_training\\Week 7\\EthioMart-Amharic-NER-System\\data\\processed\\images\\CheMed123_90.jpg: 640x640 (no detections), 1324.7ms\n",
      "Speed: 19.2ms preprocess, 1324.7ms inference, 2.0ms postprocess per image at shape (1, 3, 640, 640)\n"
     ]
    },
    {
     "name": "stderr",
     "output_type": "stream",
     "text": [
      "2025-01-30 22:22:43,742 - INFO - Detection saved for CheMed123_90.jpg\n"
     ]
    },
    {
     "name": "stdout",
     "output_type": "stream",
     "text": [
      "\n",
      "image 1/1 D:\\Kifya_training\\Week 7\\EthioMart-Amharic-NER-System\\data\\processed\\images\\CheMed123_91.jpg: 640x640 (no detections), 1227.0ms\n",
      "Speed: 27.1ms preprocess, 1227.0ms inference, 5.6ms postprocess per image at shape (1, 3, 640, 640)\n"
     ]
    },
    {
     "name": "stderr",
     "output_type": "stream",
     "text": [
      "2025-01-30 22:22:45,087 - INFO - Detection saved for CheMed123_91.jpg\n"
     ]
    },
    {
     "name": "stdout",
     "output_type": "stream",
     "text": [
      "\n",
      "image 1/1 D:\\Kifya_training\\Week 7\\EthioMart-Amharic-NER-System\\data\\processed\\images\\CheMed123_92.jpg: 640x640 (no detections), 1632.1ms\n",
      "Speed: 38.1ms preprocess, 1632.1ms inference, 2.0ms postprocess per image at shape (1, 3, 640, 640)\n"
     ]
    },
    {
     "name": "stderr",
     "output_type": "stream",
     "text": [
      "2025-01-30 22:22:46,880 - INFO - Detection saved for CheMed123_92.jpg\n"
     ]
    },
    {
     "name": "stdout",
     "output_type": "stream",
     "text": [
      "\n",
      "image 1/1 D:\\Kifya_training\\Week 7\\EthioMart-Amharic-NER-System\\data\\processed\\images\\CheMed123_93.jpg: 640x640 1 person, 1 toothbrush, 1413.5ms\n",
      "Speed: 49.1ms preprocess, 1413.5ms inference, 4.5ms postprocess per image at shape (1, 3, 640, 640)\n"
     ]
    },
    {
     "name": "stderr",
     "output_type": "stream",
     "text": [
      "2025-01-30 22:22:48,448 - INFO - Detection saved for CheMed123_93.jpg\n"
     ]
    },
    {
     "name": "stdout",
     "output_type": "stream",
     "text": [
      "\n",
      "image 1/1 D:\\Kifya_training\\Week 7\\EthioMart-Amharic-NER-System\\data\\processed\\images\\CheMed123_94.jpg: 640x640 1 person, 2 cups, 1 sandwich, 1486.0ms\n",
      "Speed: 34.6ms preprocess, 1486.0ms inference, 21.1ms postprocess per image at shape (1, 3, 640, 640)\n"
     ]
    },
    {
     "name": "stderr",
     "output_type": "stream",
     "text": [
      "2025-01-30 22:22:50,111 - INFO - Detection saved for CheMed123_94.jpg\n"
     ]
    },
    {
     "name": "stdout",
     "output_type": "stream",
     "text": [
      "\n",
      "image 1/1 D:\\Kifya_training\\Week 7\\EthioMart-Amharic-NER-System\\data\\processed\\images\\CheMed123_95.jpg: 640x640 1 person, 3416.7ms\n",
      "Speed: 44.0ms preprocess, 3416.7ms inference, 6.1ms postprocess per image at shape (1, 3, 640, 640)\n"
     ]
    },
    {
     "name": "stderr",
     "output_type": "stream",
     "text": [
      "2025-01-30 22:22:53,700 - INFO - Detection saved for CheMed123_95.jpg\n"
     ]
    },
    {
     "name": "stdout",
     "output_type": "stream",
     "text": [
      "\n",
      "image 1/1 D:\\Kifya_training\\Week 7\\EthioMart-Amharic-NER-System\\data\\processed\\images\\CheMed123_96.jpg: 640x640 (no detections), 1417.4ms\n",
      "Speed: 20.4ms preprocess, 1417.4ms inference, 6.1ms postprocess per image at shape (1, 3, 640, 640)\n"
     ]
    },
    {
     "name": "stderr",
     "output_type": "stream",
     "text": [
      "2025-01-30 22:22:55,251 - INFO - Detection saved for CheMed123_96.jpg\n"
     ]
    },
    {
     "name": "stdout",
     "output_type": "stream",
     "text": [
      "\n",
      "image 1/1 D:\\Kifya_training\\Week 7\\EthioMart-Amharic-NER-System\\data\\processed\\images\\CheMed123_97.jpg: 640x640 (no detections), 1295.5ms\n",
      "Speed: 23.6ms preprocess, 1295.5ms inference, 4.0ms postprocess per image at shape (1, 3, 640, 640)\n"
     ]
    },
    {
     "name": "stderr",
     "output_type": "stream",
     "text": [
      "2025-01-30 22:22:56,680 - INFO - Detection saved for CheMed123_97.jpg\n"
     ]
    },
    {
     "name": "stdout",
     "output_type": "stream",
     "text": [
      "\n",
      "image 1/1 D:\\Kifya_training\\Week 7\\EthioMart-Amharic-NER-System\\data\\processed\\images\\DoctorsET_750.jpg: 640x640 1 bottle, 1454.9ms\n",
      "Speed: 33.5ms preprocess, 1454.9ms inference, 4.1ms postprocess per image at shape (1, 3, 640, 640)\n"
     ]
    },
    {
     "name": "stderr",
     "output_type": "stream",
     "text": [
      "2025-01-30 22:22:58,258 - INFO - Detection saved for DoctorsET_750.jpg\n"
     ]
    },
    {
     "name": "stdout",
     "output_type": "stream",
     "text": [
      "\n",
      "image 1/1 D:\\Kifya_training\\Week 7\\EthioMart-Amharic-NER-System\\data\\processed\\images\\DoctorsET_753.jpg: 640x640 6 persons, 1 handbag, 1 cup, 2 chairs, 1 dining table, 1910.6ms\n",
      "Speed: 39.0ms preprocess, 1910.6ms inference, 18.0ms postprocess per image at shape (1, 3, 640, 640)\n"
     ]
    },
    {
     "name": "stderr",
     "output_type": "stream",
     "text": [
      "2025-01-30 22:23:00,337 - INFO - Detection saved for DoctorsET_753.jpg\n"
     ]
    },
    {
     "name": "stdout",
     "output_type": "stream",
     "text": [
      "\n",
      "image 1/1 D:\\Kifya_training\\Week 7\\EthioMart-Amharic-NER-System\\data\\processed\\images\\DoctorsET_754.jpg: 640x640 1 clock, 1762.2ms\n",
      "Speed: 37.0ms preprocess, 1762.2ms inference, 3.2ms postprocess per image at shape (1, 3, 640, 640)\n"
     ]
    },
    {
     "name": "stderr",
     "output_type": "stream",
     "text": [
      "2025-01-30 22:23:02,281 - INFO - Detection saved for DoctorsET_754.jpg\n"
     ]
    },
    {
     "name": "stdout",
     "output_type": "stream",
     "text": [
      "\n",
      "image 1/1 D:\\Kifya_training\\Week 7\\EthioMart-Amharic-NER-System\\data\\processed\\images\\DoctorsET_755.jpg: 640x640 2 persons, 2 cups, 1321.3ms\n",
      "Speed: 31.7ms preprocess, 1321.3ms inference, 4.1ms postprocess per image at shape (1, 3, 640, 640)\n"
     ]
    },
    {
     "name": "stderr",
     "output_type": "stream",
     "text": [
      "2025-01-30 22:23:03,753 - INFO - Detection saved for DoctorsET_755.jpg\n"
     ]
    },
    {
     "name": "stdout",
     "output_type": "stream",
     "text": [
      "\n",
      "image 1/1 D:\\Kifya_training\\Week 7\\EthioMart-Amharic-NER-System\\data\\processed\\images\\DoctorsET_756.jpg: 640x640 3 persons, 1 tie, 1693.2ms\n",
      "Speed: 16.6ms preprocess, 1693.2ms inference, 6.7ms postprocess per image at shape (1, 3, 640, 640)\n"
     ]
    },
    {
     "name": "stderr",
     "output_type": "stream",
     "text": [
      "2025-01-30 22:23:05,611 - INFO - Detection saved for DoctorsET_756.jpg\n"
     ]
    },
    {
     "name": "stdout",
     "output_type": "stream",
     "text": [
      "\n",
      "image 1/1 D:\\Kifya_training\\Week 7\\EthioMart-Amharic-NER-System\\data\\processed\\images\\DoctorsET_759.jpg: 640x640 4 persons, 1393.6ms\n",
      "Speed: 24.0ms preprocess, 1393.6ms inference, 5.7ms postprocess per image at shape (1, 3, 640, 640)\n"
     ]
    },
    {
     "name": "stderr",
     "output_type": "stream",
     "text": [
      "2025-01-30 22:23:07,167 - INFO - Detection saved for DoctorsET_759.jpg\n"
     ]
    },
    {
     "name": "stdout",
     "output_type": "stream",
     "text": [
      "\n",
      "image 1/1 D:\\Kifya_training\\Week 7\\EthioMart-Amharic-NER-System\\data\\processed\\images\\DoctorsET_760.jpg: 640x640 1 clock, 1685.5ms\n",
      "Speed: 36.8ms preprocess, 1685.5ms inference, 4.1ms postprocess per image at shape (1, 3, 640, 640)\n"
     ]
    },
    {
     "name": "stderr",
     "output_type": "stream",
     "text": [
      "2025-01-30 22:23:08,998 - INFO - Detection saved for DoctorsET_760.jpg\n"
     ]
    },
    {
     "name": "stdout",
     "output_type": "stream",
     "text": [
      "\n",
      "image 1/1 D:\\Kifya_training\\Week 7\\EthioMart-Amharic-NER-System\\data\\processed\\images\\DoctorsET_761.jpg: 640x640 1 person, 1960.5ms\n",
      "Speed: 64.1ms preprocess, 1960.5ms inference, 5.0ms postprocess per image at shape (1, 3, 640, 640)\n"
     ]
    },
    {
     "name": "stderr",
     "output_type": "stream",
     "text": [
      "2025-01-30 22:23:11,318 - INFO - Detection saved for DoctorsET_761.jpg\n"
     ]
    },
    {
     "name": "stdout",
     "output_type": "stream",
     "text": [
      "\n",
      "image 1/1 D:\\Kifya_training\\Week 7\\EthioMart-Amharic-NER-System\\data\\processed\\images\\DoctorsET_762.jpg: 640x640 4 persons, 2 cups, 1 dining table, 1346.9ms\n",
      "Speed: 23.5ms preprocess, 1346.9ms inference, 3.8ms postprocess per image at shape (1, 3, 640, 640)\n"
     ]
    },
    {
     "name": "stderr",
     "output_type": "stream",
     "text": [
      "2025-01-30 22:23:12,821 - INFO - Detection saved for DoctorsET_762.jpg\n"
     ]
    },
    {
     "name": "stdout",
     "output_type": "stream",
     "text": [
      "\n",
      "image 1/1 D:\\Kifya_training\\Week 7\\EthioMart-Amharic-NER-System\\data\\processed\\images\\DoctorsET_763.jpg: 640x640 1 person, 2 cups, 1 chair, 1 dining table, 1238.6ms\n",
      "Speed: 43.3ms preprocess, 1238.6ms inference, 2.0ms postprocess per image at shape (1, 3, 640, 640)\n"
     ]
    },
    {
     "name": "stderr",
     "output_type": "stream",
     "text": [
      "2025-01-30 22:23:14,221 - INFO - Detection saved for DoctorsET_763.jpg\n"
     ]
    },
    {
     "name": "stdout",
     "output_type": "stream",
     "text": [
      "\n",
      "image 1/1 D:\\Kifya_training\\Week 7\\EthioMart-Amharic-NER-System\\data\\processed\\images\\DoctorsET_764.jpg: 640x640 1 person, 1424.4ms\n",
      "Speed: 17.8ms preprocess, 1424.4ms inference, 12.0ms postprocess per image at shape (1, 3, 640, 640)\n"
     ]
    },
    {
     "name": "stderr",
     "output_type": "stream",
     "text": [
      "2025-01-30 22:23:15,778 - INFO - Detection saved for DoctorsET_764.jpg\n"
     ]
    },
    {
     "name": "stdout",
     "output_type": "stream",
     "text": [
      "\n",
      "image 1/1 D:\\Kifya_training\\Week 7\\EthioMart-Amharic-NER-System\\data\\processed\\images\\DoctorsET_766.jpg: 640x640 2 persons, 1 handbag, 1588.6ms\n",
      "Speed: 21.4ms preprocess, 1588.6ms inference, 4.0ms postprocess per image at shape (1, 3, 640, 640)\n"
     ]
    },
    {
     "name": "stderr",
     "output_type": "stream",
     "text": [
      "2025-01-30 22:23:17,513 - INFO - Detection saved for DoctorsET_766.jpg\n"
     ]
    },
    {
     "name": "stdout",
     "output_type": "stream",
     "text": [
      "\n",
      "image 1/1 D:\\Kifya_training\\Week 7\\EthioMart-Amharic-NER-System\\data\\processed\\images\\DoctorsET_767.jpg: 640x640 1 clock, 2026.4ms\n",
      "Speed: 43.4ms preprocess, 2026.4ms inference, 6.7ms postprocess per image at shape (1, 3, 640, 640)\n"
     ]
    },
    {
     "name": "stderr",
     "output_type": "stream",
     "text": [
      "2025-01-30 22:23:19,697 - INFO - Detection saved for DoctorsET_767.jpg\n"
     ]
    },
    {
     "name": "stdout",
     "output_type": "stream",
     "text": [
      "\n",
      "image 1/1 D:\\Kifya_training\\Week 7\\EthioMart-Amharic-NER-System\\data\\processed\\images\\DoctorsET_768.jpg: 640x640 2 persons, 1 tie, 1266.4ms\n",
      "Speed: 63.8ms preprocess, 1266.4ms inference, 4.1ms postprocess per image at shape (1, 3, 640, 640)\n"
     ]
    },
    {
     "name": "stderr",
     "output_type": "stream",
     "text": [
      "2025-01-30 22:23:21,150 - INFO - Detection saved for DoctorsET_768.jpg\n"
     ]
    },
    {
     "name": "stdout",
     "output_type": "stream",
     "text": [
      "\n",
      "image 1/1 D:\\Kifya_training\\Week 7\\EthioMart-Amharic-NER-System\\data\\processed\\images\\DoctorsET_769.jpg: 640x640 2 persons, 1191.0ms\n",
      "Speed: 16.6ms preprocess, 1191.0ms inference, 6.2ms postprocess per image at shape (1, 3, 640, 640)\n"
     ]
    },
    {
     "name": "stderr",
     "output_type": "stream",
     "text": [
      "2025-01-30 22:23:22,461 - INFO - Detection saved for DoctorsET_769.jpg\n"
     ]
    },
    {
     "name": "stdout",
     "output_type": "stream",
     "text": [
      "\n",
      "image 1/1 D:\\Kifya_training\\Week 7\\EthioMart-Amharic-NER-System\\data\\processed\\images\\DoctorsET_770.jpg: 640x640 6 persons, 1 handbag, 1 chair, 1 book, 1421.1ms\n",
      "Speed: 28.5ms preprocess, 1421.1ms inference, 6.0ms postprocess per image at shape (1, 3, 640, 640)\n"
     ]
    },
    {
     "name": "stderr",
     "output_type": "stream",
     "text": [
      "2025-01-30 22:23:24,033 - INFO - Detection saved for DoctorsET_770.jpg\n"
     ]
    },
    {
     "name": "stdout",
     "output_type": "stream",
     "text": [
      "\n",
      "image 1/1 D:\\Kifya_training\\Week 7\\EthioMart-Amharic-NER-System\\data\\processed\\images\\DoctorsET_771.jpg: 640x640 2 persons, 1 tie, 1 cup, 1764.0ms\n",
      "Speed: 18.8ms preprocess, 1764.0ms inference, 2.0ms postprocess per image at shape (1, 3, 640, 640)\n"
     ]
    },
    {
     "name": "stderr",
     "output_type": "stream",
     "text": [
      "2025-01-30 22:23:25,956 - INFO - Detection saved for DoctorsET_771.jpg\n"
     ]
    },
    {
     "name": "stdout",
     "output_type": "stream",
     "text": [
      "\n",
      "image 1/1 D:\\Kifya_training\\Week 7\\EthioMart-Amharic-NER-System\\data\\processed\\images\\DoctorsET_772.jpg: 640x640 2 persons, 2210.7ms\n",
      "Speed: 134.4ms preprocess, 2210.7ms inference, 5.2ms postprocess per image at shape (1, 3, 640, 640)\n"
     ]
    },
    {
     "name": "stderr",
     "output_type": "stream",
     "text": [
      "2025-01-30 22:23:28,507 - INFO - Detection saved for DoctorsET_772.jpg\n"
     ]
    },
    {
     "name": "stdout",
     "output_type": "stream",
     "text": [
      "\n",
      "image 1/1 D:\\Kifya_training\\Week 7\\EthioMart-Amharic-NER-System\\data\\processed\\images\\DoctorsET_773.jpg: 640x640 2 persons, 3 chairs, 2157.7ms\n",
      "Speed: 31.8ms preprocess, 2157.7ms inference, 6.7ms postprocess per image at shape (1, 3, 640, 640)\n"
     ]
    },
    {
     "name": "stderr",
     "output_type": "stream",
     "text": [
      "2025-01-30 22:23:30,800 - INFO - Detection saved for DoctorsET_773.jpg\n"
     ]
    },
    {
     "name": "stdout",
     "output_type": "stream",
     "text": [
      "\n",
      "image 1/1 D:\\Kifya_training\\Week 7\\EthioMart-Amharic-NER-System\\data\\processed\\images\\DoctorsET_774.jpg: 640x640 5 persons, 1 book, 1599.5ms\n",
      "Speed: 22.6ms preprocess, 1599.5ms inference, 2.0ms postprocess per image at shape (1, 3, 640, 640)\n"
     ]
    },
    {
     "name": "stderr",
     "output_type": "stream",
     "text": [
      "2025-01-30 22:23:32,519 - INFO - Detection saved for DoctorsET_774.jpg\n"
     ]
    },
    {
     "name": "stdout",
     "output_type": "stream",
     "text": [
      "\n",
      "image 1/1 D:\\Kifya_training\\Week 7\\EthioMart-Amharic-NER-System\\data\\processed\\images\\DoctorsET_776.jpg: 640x640 4 persons, 1 chair, 1339.3ms\n",
      "Speed: 16.7ms preprocess, 1339.3ms inference, 6.1ms postprocess per image at shape (1, 3, 640, 640)\n"
     ]
    },
    {
     "name": "stderr",
     "output_type": "stream",
     "text": [
      "2025-01-30 22:23:33,979 - INFO - Detection saved for DoctorsET_776.jpg\n"
     ]
    },
    {
     "name": "stdout",
     "output_type": "stream",
     "text": [
      "\n",
      "image 1/1 D:\\Kifya_training\\Week 7\\EthioMart-Amharic-NER-System\\data\\processed\\images\\DoctorsET_777.jpg: 640x640 3 persons, 2 cups, 1735.7ms\n",
      "Speed: 35.1ms preprocess, 1735.7ms inference, 4.1ms postprocess per image at shape (1, 3, 640, 640)\n"
     ]
    },
    {
     "name": "stderr",
     "output_type": "stream",
     "text": [
      "2025-01-30 22:23:35,831 - INFO - Detection saved for DoctorsET_777.jpg\n"
     ]
    },
    {
     "name": "stdout",
     "output_type": "stream",
     "text": [
      "\n",
      "image 1/1 D:\\Kifya_training\\Week 7\\EthioMart-Amharic-NER-System\\data\\processed\\images\\DoctorsET_778.jpg: 640x640 4 persons, 2 handbags, 1 bottle, 2 chairs, 1 dining table, 1 clock, 1574.2ms\n",
      "Speed: 29.6ms preprocess, 1574.2ms inference, 6.1ms postprocess per image at shape (1, 3, 640, 640)\n"
     ]
    },
    {
     "name": "stderr",
     "output_type": "stream",
     "text": [
      "2025-01-30 22:23:37,534 - INFO - Detection saved for DoctorsET_778.jpg\n"
     ]
    },
    {
     "name": "stdout",
     "output_type": "stream",
     "text": [
      "\n",
      "image 1/1 D:\\Kifya_training\\Week 7\\EthioMart-Amharic-NER-System\\data\\processed\\images\\DoctorsET_781.jpg: 640x640 (no detections), 1647.6ms\n",
      "Speed: 32.8ms preprocess, 1647.6ms inference, 3.8ms postprocess per image at shape (1, 3, 640, 640)\n"
     ]
    },
    {
     "name": "stderr",
     "output_type": "stream",
     "text": [
      "2025-01-30 22:23:39,328 - INFO - Detection saved for DoctorsET_781.jpg\n"
     ]
    },
    {
     "name": "stdout",
     "output_type": "stream",
     "text": [
      "\n",
      "image 1/1 D:\\Kifya_training\\Week 7\\EthioMart-Amharic-NER-System\\data\\processed\\images\\DoctorsET_783.jpg: 640x640 3 persons, 1634.9ms\n",
      "Speed: 25.6ms preprocess, 1634.9ms inference, 6.1ms postprocess per image at shape (1, 3, 640, 640)\n"
     ]
    },
    {
     "name": "stderr",
     "output_type": "stream",
     "text": [
      "2025-01-30 22:23:41,098 - INFO - Detection saved for DoctorsET_783.jpg\n"
     ]
    },
    {
     "name": "stdout",
     "output_type": "stream",
     "text": [
      "\n",
      "image 1/1 D:\\Kifya_training\\Week 7\\EthioMart-Amharic-NER-System\\data\\processed\\images\\DoctorsET_784.jpg: 640x640 4 persons, 1185.4ms\n",
      "Speed: 13.6ms preprocess, 1185.4ms inference, 4.1ms postprocess per image at shape (1, 3, 640, 640)\n"
     ]
    },
    {
     "name": "stderr",
     "output_type": "stream",
     "text": [
      "2025-01-30 22:23:42,399 - INFO - Detection saved for DoctorsET_784.jpg\n"
     ]
    },
    {
     "name": "stdout",
     "output_type": "stream",
     "text": [
      "\n",
      "image 1/1 D:\\Kifya_training\\Week 7\\EthioMart-Amharic-NER-System\\data\\processed\\images\\DoctorsET_785.jpg: 640x640 3 persons, 1 cup, 1 chair, 1316.8ms\n",
      "Speed: 31.6ms preprocess, 1316.8ms inference, 6.9ms postprocess per image at shape (1, 3, 640, 640)\n"
     ]
    },
    {
     "name": "stderr",
     "output_type": "stream",
     "text": [
      "2025-01-30 22:23:43,844 - INFO - Detection saved for DoctorsET_785.jpg\n"
     ]
    },
    {
     "name": "stdout",
     "output_type": "stream",
     "text": [
      "\n",
      "image 1/1 D:\\Kifya_training\\Week 7\\EthioMart-Amharic-NER-System\\data\\processed\\images\\DoctorsET_786.jpg: 640x640 5 persons, 1 handbag, 1 chair, 1990.5ms\n",
      "Speed: 39.6ms preprocess, 1990.5ms inference, 4.0ms postprocess per image at shape (1, 3, 640, 640)\n"
     ]
    },
    {
     "name": "stderr",
     "output_type": "stream",
     "text": [
      "2025-01-30 22:23:45,970 - INFO - Detection saved for DoctorsET_786.jpg\n"
     ]
    },
    {
     "name": "stdout",
     "output_type": "stream",
     "text": [
      "\n",
      "image 1/1 D:\\Kifya_training\\Week 7\\EthioMart-Amharic-NER-System\\data\\processed\\images\\DoctorsET_787.jpg: 640x640 1 clock, 2059.8ms\n",
      "Speed: 141.3ms preprocess, 2059.8ms inference, 6.0ms postprocess per image at shape (1, 3, 640, 640)\n"
     ]
    },
    {
     "name": "stderr",
     "output_type": "stream",
     "text": [
      "2025-01-30 22:23:48,314 - INFO - Detection saved for DoctorsET_787.jpg\n"
     ]
    },
    {
     "name": "stdout",
     "output_type": "stream",
     "text": [
      "\n",
      "image 1/1 D:\\Kifya_training\\Week 7\\EthioMart-Amharic-NER-System\\data\\processed\\images\\DoctorsET_788.jpg: 640x640 1 person, 1 tie, 1524.9ms\n",
      "Speed: 86.3ms preprocess, 1524.9ms inference, 6.2ms postprocess per image at shape (1, 3, 640, 640)\n"
     ]
    },
    {
     "name": "stderr",
     "output_type": "stream",
     "text": [
      "2025-01-30 22:23:50,034 - INFO - Detection saved for DoctorsET_788.jpg\n"
     ]
    },
    {
     "name": "stdout",
     "output_type": "stream",
     "text": [
      "\n",
      "image 1/1 D:\\Kifya_training\\Week 7\\EthioMart-Amharic-NER-System\\data\\processed\\images\\DoctorsET_791.jpg: 640x640 3 persons, 1 handbag, 1559.9ms\n",
      "Speed: 27.8ms preprocess, 1559.9ms inference, 4.0ms postprocess per image at shape (1, 3, 640, 640)\n"
     ]
    },
    {
     "name": "stderr",
     "output_type": "stream",
     "text": [
      "2025-01-30 22:23:51,750 - INFO - Detection saved for DoctorsET_791.jpg\n"
     ]
    },
    {
     "name": "stdout",
     "output_type": "stream",
     "text": [
      "\n",
      "image 1/1 D:\\Kifya_training\\Week 7\\EthioMart-Amharic-NER-System\\data\\processed\\images\\DoctorsET_792.jpg: 640x640 2 persons, 1615.9ms\n",
      "Speed: 78.8ms preprocess, 1615.9ms inference, 5.9ms postprocess per image at shape (1, 3, 640, 640)\n"
     ]
    },
    {
     "name": "stderr",
     "output_type": "stream",
     "text": [
      "2025-01-30 22:23:53,569 - INFO - Detection saved for DoctorsET_792.jpg\n"
     ]
    },
    {
     "name": "stdout",
     "output_type": "stream",
     "text": [
      "\n",
      "image 1/1 D:\\Kifya_training\\Week 7\\EthioMart-Amharic-NER-System\\data\\processed\\images\\DoctorsET_793.jpg: 640x640 2 persons, 1 cup, 1 chair, 1194.2ms\n",
      "Speed: 16.5ms preprocess, 1194.2ms inference, 3.6ms postprocess per image at shape (1, 3, 640, 640)\n"
     ]
    },
    {
     "name": "stderr",
     "output_type": "stream",
     "text": [
      "2025-01-30 22:23:54,888 - INFO - Detection saved for DoctorsET_793.jpg\n"
     ]
    },
    {
     "name": "stdout",
     "output_type": "stream",
     "text": [
      "\n",
      "image 1/1 D:\\Kifya_training\\Week 7\\EthioMart-Amharic-NER-System\\data\\processed\\images\\DoctorsET_794.jpg: 640x640 1 person, 1 dining table, 1339.1ms\n",
      "Speed: 28.4ms preprocess, 1339.1ms inference, 4.1ms postprocess per image at shape (1, 3, 640, 640)\n"
     ]
    },
    {
     "name": "stderr",
     "output_type": "stream",
     "text": [
      "2025-01-30 22:23:56,357 - INFO - Detection saved for DoctorsET_794.jpg\n"
     ]
    },
    {
     "name": "stdout",
     "output_type": "stream",
     "text": [
      "\n",
      "image 1/1 D:\\Kifya_training\\Week 7\\EthioMart-Amharic-NER-System\\data\\processed\\images\\DoctorsET_795.jpg: 640x640 3 persons, 2 handbags, 1 chair, 1279.5ms\n",
      "Speed: 40.0ms preprocess, 1279.5ms inference, 9.7ms postprocess per image at shape (1, 3, 640, 640)\n"
     ]
    },
    {
     "name": "stderr",
     "output_type": "stream",
     "text": [
      "2025-01-30 22:23:57,804 - INFO - Detection saved for DoctorsET_795.jpg\n"
     ]
    },
    {
     "name": "stdout",
     "output_type": "stream",
     "text": [
      "\n",
      "image 1/1 D:\\Kifya_training\\Week 7\\EthioMart-Amharic-NER-System\\data\\processed\\images\\DoctorsET_796.jpg: 640x640 1 clock, 1184.8ms\n",
      "Speed: 59.5ms preprocess, 1184.8ms inference, 4.1ms postprocess per image at shape (1, 3, 640, 640)\n"
     ]
    },
    {
     "name": "stderr",
     "output_type": "stream",
     "text": [
      "2025-01-30 22:23:59,184 - INFO - Detection saved for DoctorsET_796.jpg\n"
     ]
    },
    {
     "name": "stdout",
     "output_type": "stream",
     "text": [
      "\n",
      "image 1/1 D:\\Kifya_training\\Week 7\\EthioMart-Amharic-NER-System\\data\\processed\\images\\DoctorsET_798.jpg: 640x640 1 clock, 1244.6ms\n",
      "Speed: 27.1ms preprocess, 1244.6ms inference, 5.6ms postprocess per image at shape (1, 3, 640, 640)\n"
     ]
    },
    {
     "name": "stderr",
     "output_type": "stream",
     "text": [
      "2025-01-30 22:24:00,547 - INFO - Detection saved for DoctorsET_798.jpg\n"
     ]
    },
    {
     "name": "stdout",
     "output_type": "stream",
     "text": [
      "\n",
      "image 1/1 D:\\Kifya_training\\Week 7\\EthioMart-Amharic-NER-System\\data\\processed\\images\\DoctorsET_799.jpg: 640x640 1 person, 1142.5ms\n",
      "Speed: 46.4ms preprocess, 1142.5ms inference, 4.0ms postprocess per image at shape (1, 3, 640, 640)\n"
     ]
    },
    {
     "name": "stderr",
     "output_type": "stream",
     "text": [
      "2025-01-30 22:24:01,954 - INFO - Detection saved for DoctorsET_799.jpg\n"
     ]
    },
    {
     "name": "stdout",
     "output_type": "stream",
     "text": [
      "\n",
      "image 1/1 D:\\Kifya_training\\Week 7\\EthioMart-Amharic-NER-System\\data\\processed\\images\\DoctorsET_800.jpg: 640x640 1 person, 2 cups, 1376.8ms\n",
      "Speed: 99.9ms preprocess, 1376.8ms inference, 4.1ms postprocess per image at shape (1, 3, 640, 640)\n"
     ]
    },
    {
     "name": "stderr",
     "output_type": "stream",
     "text": [
      "2025-01-30 22:24:03,534 - INFO - Detection saved for DoctorsET_800.jpg\n"
     ]
    },
    {
     "name": "stdout",
     "output_type": "stream",
     "text": [
      "\n",
      "image 1/1 D:\\Kifya_training\\Week 7\\EthioMart-Amharic-NER-System\\data\\processed\\images\\DoctorsET_801.jpg: 640x640 1 person, 1 cup, 1217.0ms\n",
      "Speed: 42.5ms preprocess, 1217.0ms inference, 3.0ms postprocess per image at shape (1, 3, 640, 640)\n"
     ]
    },
    {
     "name": "stderr",
     "output_type": "stream",
     "text": [
      "2025-01-30 22:24:04,865 - INFO - Detection saved for DoctorsET_801.jpg\n"
     ]
    },
    {
     "name": "stdout",
     "output_type": "stream",
     "text": [
      "\n",
      "image 1/1 D:\\Kifya_training\\Week 7\\EthioMart-Amharic-NER-System\\data\\processed\\images\\DoctorsET_802.jpg: 640x640 3 persons, 1 chair, 1302.6ms\n",
      "Speed: 26.2ms preprocess, 1302.6ms inference, 4.0ms postprocess per image at shape (1, 3, 640, 640)\n"
     ]
    },
    {
     "name": "stderr",
     "output_type": "stream",
     "text": [
      "2025-01-30 22:24:06,298 - INFO - Detection saved for DoctorsET_802.jpg\n"
     ]
    },
    {
     "name": "stdout",
     "output_type": "stream",
     "text": [
      "\n",
      "image 1/1 D:\\Kifya_training\\Week 7\\EthioMart-Amharic-NER-System\\data\\processed\\images\\DoctorsET_807.jpg: 640x640 3 persons, 2 cars, 1 truck, 1233.8ms\n",
      "Speed: 25.2ms preprocess, 1233.8ms inference, 5.9ms postprocess per image at shape (1, 3, 640, 640)\n"
     ]
    },
    {
     "name": "stderr",
     "output_type": "stream",
     "text": [
      "2025-01-30 22:24:07,667 - INFO - Detection saved for DoctorsET_807.jpg\n"
     ]
    },
    {
     "name": "stdout",
     "output_type": "stream",
     "text": [
      "\n",
      "image 1/1 D:\\Kifya_training\\Week 7\\EthioMart-Amharic-NER-System\\data\\processed\\images\\DoctorsET_808.jpg: 640x640 5 persons, 1 book, 1821.2ms\n",
      "Speed: 81.7ms preprocess, 1821.2ms inference, 3.1ms postprocess per image at shape (1, 3, 640, 640)\n"
     ]
    },
    {
     "name": "stderr",
     "output_type": "stream",
     "text": [
      "2025-01-30 22:24:09,674 - INFO - Detection saved for DoctorsET_808.jpg\n"
     ]
    },
    {
     "name": "stdout",
     "output_type": "stream",
     "text": [
      "\n",
      "image 1/1 D:\\Kifya_training\\Week 7\\EthioMart-Amharic-NER-System\\data\\processed\\images\\DoctorsET_809.jpg: 640x640 11 persons, 4 ties, 1 clock, 4239.3ms\n",
      "Speed: 268.3ms preprocess, 4239.3ms inference, 12.7ms postprocess per image at shape (1, 3, 640, 640)\n"
     ]
    },
    {
     "name": "stderr",
     "output_type": "stream",
     "text": [
      "2025-01-30 22:24:14,367 - INFO - Detection saved for DoctorsET_809.jpg\n"
     ]
    },
    {
     "name": "stdout",
     "output_type": "stream",
     "text": [
      "\n",
      "image 1/1 D:\\Kifya_training\\Week 7\\EthioMart-Amharic-NER-System\\data\\processed\\images\\DoctorsET_810.jpg: 640x640 6 persons, 1 chair, 1 remote, 1 clock, 2251.2ms\n",
      "Speed: 64.2ms preprocess, 2251.2ms inference, 4.1ms postprocess per image at shape (1, 3, 640, 640)\n"
     ]
    },
    {
     "name": "stderr",
     "output_type": "stream",
     "text": [
      "2025-01-30 22:24:16,884 - INFO - Detection saved for DoctorsET_810.jpg\n"
     ]
    },
    {
     "name": "stdout",
     "output_type": "stream",
     "text": [
      "\n",
      "image 1/1 D:\\Kifya_training\\Week 7\\EthioMart-Amharic-NER-System\\data\\processed\\images\\DoctorsET_811.jpg: 640x640 3 persons, 1 horse, 1 handbag, 1 cup, 2034.7ms\n",
      "Speed: 32.9ms preprocess, 2034.7ms inference, 4.1ms postprocess per image at shape (1, 3, 640, 640)\n"
     ]
    },
    {
     "name": "stderr",
     "output_type": "stream",
     "text": [
      "2025-01-30 22:24:19,075 - INFO - Detection saved for DoctorsET_811.jpg\n"
     ]
    },
    {
     "name": "stdout",
     "output_type": "stream",
     "text": [
      "\n",
      "image 1/1 D:\\Kifya_training\\Week 7\\EthioMart-Amharic-NER-System\\data\\processed\\images\\DoctorsET_812.jpg: 640x640 4 persons, 1 laptop, 1433.5ms\n",
      "Speed: 25.6ms preprocess, 1433.5ms inference, 6.1ms postprocess per image at shape (1, 3, 640, 640)\n"
     ]
    },
    {
     "name": "stderr",
     "output_type": "stream",
     "text": [
      "2025-01-30 22:24:20,644 - INFO - Detection saved for DoctorsET_812.jpg\n"
     ]
    },
    {
     "name": "stdout",
     "output_type": "stream",
     "text": [
      "\n",
      "image 1/1 D:\\Kifya_training\\Week 7\\EthioMart-Amharic-NER-System\\data\\processed\\images\\DoctorsET_813.jpg: 640x640 2 persons, 2 cups, 1405.9ms\n",
      "Speed: 34.1ms preprocess, 1405.9ms inference, 11.6ms postprocess per image at shape (1, 3, 640, 640)\n"
     ]
    },
    {
     "name": "stderr",
     "output_type": "stream",
     "text": [
      "2025-01-30 22:24:22,203 - INFO - Detection saved for DoctorsET_813.jpg\n"
     ]
    },
    {
     "name": "stdout",
     "output_type": "stream",
     "text": [
      "\n",
      "image 1/1 D:\\Kifya_training\\Week 7\\EthioMart-Amharic-NER-System\\data\\processed\\images\\DoctorsET_814.jpg: 640x640 1 person, 1549.9ms\n",
      "Speed: 19.6ms preprocess, 1549.9ms inference, 4.1ms postprocess per image at shape (1, 3, 640, 640)\n"
     ]
    },
    {
     "name": "stderr",
     "output_type": "stream",
     "text": [
      "2025-01-30 22:24:23,869 - INFO - Detection saved for DoctorsET_814.jpg\n"
     ]
    },
    {
     "name": "stdout",
     "output_type": "stream",
     "text": [
      "\n",
      "image 1/1 D:\\Kifya_training\\Week 7\\EthioMart-Amharic-NER-System\\data\\processed\\images\\DoctorsET_818.jpg: 640x640 2 persons, 1 tie, 2 bottles, 3 cups, 8 bowls, 1 potted plant, 3 microwaves, 1 clock, 2476.0ms\n",
      "Speed: 12.5ms preprocess, 2476.0ms inference, 8.1ms postprocess per image at shape (1, 3, 640, 640)\n"
     ]
    },
    {
     "name": "stderr",
     "output_type": "stream",
     "text": [
      "2025-01-30 22:24:26,472 - INFO - Detection saved for DoctorsET_818.jpg\n"
     ]
    },
    {
     "name": "stdout",
     "output_type": "stream",
     "text": [
      "\n",
      "image 1/1 D:\\Kifya_training\\Week 7\\EthioMart-Amharic-NER-System\\data\\processed\\images\\DoctorsET_819.jpg: 640x640 1 person, 1304.1ms\n",
      "Speed: 33.1ms preprocess, 1304.1ms inference, 6.1ms postprocess per image at shape (1, 3, 640, 640)\n"
     ]
    },
    {
     "name": "stderr",
     "output_type": "stream",
     "text": [
      "2025-01-30 22:24:27,910 - INFO - Detection saved for DoctorsET_819.jpg\n"
     ]
    },
    {
     "name": "stdout",
     "output_type": "stream",
     "text": [
      "\n",
      "image 1/1 D:\\Kifya_training\\Week 7\\EthioMart-Amharic-NER-System\\data\\processed\\images\\DoctorsET_820.jpg: 640x640 1 person, 1 tie, 1 bottle, 1 cup, 1 potted plant, 1 microwave, 1494.7ms\n",
      "Speed: 89.8ms preprocess, 1494.7ms inference, 4.0ms postprocess per image at shape (1, 3, 640, 640)\n"
     ]
    },
    {
     "name": "stderr",
     "output_type": "stream",
     "text": [
      "2025-01-30 22:24:29,601 - INFO - Detection saved for DoctorsET_820.jpg\n"
     ]
    },
    {
     "name": "stdout",
     "output_type": "stream",
     "text": [
      "\n",
      "image 1/1 D:\\Kifya_training\\Week 7\\EthioMart-Amharic-NER-System\\data\\processed\\images\\DoctorsET_822.jpg: 640x640 1 person, 1 truck, 1390.3ms\n",
      "Speed: 26.6ms preprocess, 1390.3ms inference, 6.1ms postprocess per image at shape (1, 3, 640, 640)\n"
     ]
    },
    {
     "name": "stderr",
     "output_type": "stream",
     "text": [
      "2025-01-30 22:24:31,109 - INFO - Detection saved for DoctorsET_822.jpg\n"
     ]
    },
    {
     "name": "stdout",
     "output_type": "stream",
     "text": [
      "\n",
      "image 1/1 D:\\Kifya_training\\Week 7\\EthioMart-Amharic-NER-System\\data\\processed\\images\\DoctorsET_823.jpg: 640x640 1 person, 1265.9ms\n",
      "Speed: 27.7ms preprocess, 1265.9ms inference, 3.1ms postprocess per image at shape (1, 3, 640, 640)\n"
     ]
    },
    {
     "name": "stderr",
     "output_type": "stream",
     "text": [
      "2025-01-30 22:24:32,498 - INFO - Detection saved for DoctorsET_823.jpg\n"
     ]
    },
    {
     "name": "stdout",
     "output_type": "stream",
     "text": [
      "\n",
      "image 1/1 D:\\Kifya_training\\Week 7\\EthioMart-Amharic-NER-System\\data\\processed\\images\\DoctorsET_824.jpg: 640x640 3 persons, 1 chair, 1 clock, 1398.1ms\n",
      "Speed: 19.6ms preprocess, 1398.1ms inference, 12.1ms postprocess per image at shape (1, 3, 640, 640)\n"
     ]
    },
    {
     "name": "stderr",
     "output_type": "stream",
     "text": [
      "2025-01-30 22:24:34,020 - INFO - Detection saved for DoctorsET_824.jpg\n"
     ]
    },
    {
     "name": "stdout",
     "output_type": "stream",
     "text": [
      "\n",
      "image 1/1 D:\\Kifya_training\\Week 7\\EthioMart-Amharic-NER-System\\data\\processed\\images\\DoctorsET_825.jpg: 640x640 4 persons, 1 suitcase, 1 book, 1 clock, 1595.0ms\n",
      "Speed: 16.0ms preprocess, 1595.0ms inference, 5.8ms postprocess per image at shape (1, 3, 640, 640)\n"
     ]
    },
    {
     "name": "stderr",
     "output_type": "stream",
     "text": [
      "2025-01-30 22:24:35,743 - INFO - Detection saved for DoctorsET_825.jpg\n"
     ]
    },
    {
     "name": "stdout",
     "output_type": "stream",
     "text": [
      "\n",
      "image 1/1 D:\\Kifya_training\\Week 7\\EthioMart-Amharic-NER-System\\data\\processed\\images\\DoctorsET_826.jpg: 640x640 5 persons, 1 skis, 3419.6ms\n",
      "Speed: 127.9ms preprocess, 3419.6ms inference, 2.0ms postprocess per image at shape (1, 3, 640, 640)\n"
     ]
    },
    {
     "name": "stderr",
     "output_type": "stream",
     "text": [
      "2025-01-30 22:24:39,408 - INFO - Detection saved for DoctorsET_826.jpg\n"
     ]
    },
    {
     "name": "stdout",
     "output_type": "stream",
     "text": [
      "\n",
      "image 1/1 D:\\Kifya_training\\Week 7\\EthioMart-Amharic-NER-System\\data\\processed\\images\\DoctorsET_827.jpg: 640x640 3 persons, 1 cell phone, 2365.6ms\n",
      "Speed: 30.9ms preprocess, 2365.6ms inference, 23.7ms postprocess per image at shape (1, 3, 640, 640)\n"
     ]
    },
    {
     "name": "stderr",
     "output_type": "stream",
     "text": [
      "2025-01-30 22:24:41,941 - INFO - Detection saved for DoctorsET_827.jpg\n"
     ]
    },
    {
     "name": "stdout",
     "output_type": "stream",
     "text": [
      "\n",
      "image 1/1 D:\\Kifya_training\\Week 7\\EthioMart-Amharic-NER-System\\data\\processed\\images\\DoctorsET_828.jpg: 640x640 5 persons, 1479.5ms\n",
      "Speed: 100.4ms preprocess, 1479.5ms inference, 6.2ms postprocess per image at shape (1, 3, 640, 640)\n"
     ]
    },
    {
     "name": "stderr",
     "output_type": "stream",
     "text": [
      "2025-01-30 22:24:43,748 - INFO - Detection saved for DoctorsET_828.jpg\n"
     ]
    },
    {
     "name": "stdout",
     "output_type": "stream",
     "text": [
      "\n",
      "image 1/1 D:\\Kifya_training\\Week 7\\EthioMart-Amharic-NER-System\\data\\processed\\images\\DoctorsET_830.jpg: 640x640 2 persons, 1 car, 2275.9ms\n",
      "Speed: 16.0ms preprocess, 2275.9ms inference, 8.1ms postprocess per image at shape (1, 3, 640, 640)\n"
     ]
    },
    {
     "name": "stderr",
     "output_type": "stream",
     "text": [
      "2025-01-30 22:24:46,152 - INFO - Detection saved for DoctorsET_830.jpg\n"
     ]
    },
    {
     "name": "stdout",
     "output_type": "stream",
     "text": [
      "\n",
      "image 1/1 D:\\Kifya_training\\Week 7\\EthioMart-Amharic-NER-System\\data\\processed\\images\\DoctorsET_831.jpg: 640x640 5 persons, 1 chair, 2577.1ms\n",
      "Speed: 22.8ms preprocess, 2577.1ms inference, 3.8ms postprocess per image at shape (1, 3, 640, 640)\n"
     ]
    },
    {
     "name": "stderr",
     "output_type": "stream",
     "text": [
      "2025-01-30 22:24:48,854 - INFO - Detection saved for DoctorsET_831.jpg\n"
     ]
    },
    {
     "name": "stdout",
     "output_type": "stream",
     "text": [
      "\n",
      "image 1/1 D:\\Kifya_training\\Week 7\\EthioMart-Amharic-NER-System\\data\\processed\\images\\DoctorsET_832.jpg: 640x640 4 persons, 2377.0ms\n",
      "Speed: 25.0ms preprocess, 2377.0ms inference, 12.0ms postprocess per image at shape (1, 3, 640, 640)\n"
     ]
    },
    {
     "name": "stderr",
     "output_type": "stream",
     "text": [
      "2025-01-30 22:24:51,373 - INFO - Detection saved for DoctorsET_832.jpg\n"
     ]
    },
    {
     "name": "stdout",
     "output_type": "stream",
     "text": [
      "\n",
      "image 1/1 D:\\Kifya_training\\Week 7\\EthioMart-Amharic-NER-System\\data\\processed\\images\\DoctorsET_833.jpg: 640x640 11 persons, 3 ties, 1 clock, 2127.1ms\n",
      "Speed: 223.4ms preprocess, 2127.1ms inference, 6.1ms postprocess per image at shape (1, 3, 640, 640)\n"
     ]
    },
    {
     "name": "stderr",
     "output_type": "stream",
     "text": [
      "2025-01-30 22:24:53,839 - INFO - Detection saved for DoctorsET_833.jpg\n"
     ]
    },
    {
     "name": "stdout",
     "output_type": "stream",
     "text": [
      "\n",
      "image 1/1 D:\\Kifya_training\\Week 7\\EthioMart-Amharic-NER-System\\data\\processed\\images\\DoctorsET_834.jpg: 640x640 7 persons, 3 ties, 1803.6ms\n",
      "Speed: 12.0ms preprocess, 1803.6ms inference, 6.1ms postprocess per image at shape (1, 3, 640, 640)\n"
     ]
    },
    {
     "name": "stderr",
     "output_type": "stream",
     "text": [
      "2025-01-30 22:24:55,729 - INFO - Detection saved for DoctorsET_834.jpg\n"
     ]
    },
    {
     "name": "stdout",
     "output_type": "stream",
     "text": [
      "\n",
      "image 1/1 D:\\Kifya_training\\Week 7\\EthioMart-Amharic-NER-System\\data\\processed\\images\\DoctorsET_835.jpg: 640x640 5 persons, 4 ties, 1294.9ms\n",
      "Speed: 25.1ms preprocess, 1294.9ms inference, 6.6ms postprocess per image at shape (1, 3, 640, 640)\n"
     ]
    },
    {
     "name": "stderr",
     "output_type": "stream",
     "text": [
      "2025-01-30 22:24:57,152 - INFO - Detection saved for DoctorsET_835.jpg\n"
     ]
    },
    {
     "name": "stdout",
     "output_type": "stream",
     "text": [
      "\n",
      "image 1/1 D:\\Kifya_training\\Week 7\\EthioMart-Amharic-NER-System\\data\\processed\\images\\DoctorsET_839.jpg: 640x640 1 skateboard, 5 bottles, 1813.0ms\n",
      "Speed: 15.0ms preprocess, 1813.0ms inference, 7.1ms postprocess per image at shape (1, 3, 640, 640)\n"
     ]
    },
    {
     "name": "stderr",
     "output_type": "stream",
     "text": [
      "2025-01-30 22:24:59,083 - INFO - Detection saved for DoctorsET_839.jpg\n"
     ]
    },
    {
     "name": "stdout",
     "output_type": "stream",
     "text": [
      "\n",
      "image 1/1 D:\\Kifya_training\\Week 7\\EthioMart-Amharic-NER-System\\data\\processed\\images\\DoctorsET_840.jpg: 640x640 5 persons, 1361.1ms\n",
      "Speed: 24.6ms preprocess, 1361.1ms inference, 4.5ms postprocess per image at shape (1, 3, 640, 640)\n"
     ]
    },
    {
     "name": "stderr",
     "output_type": "stream",
     "text": [
      "2025-01-30 22:25:00,581 - INFO - Detection saved for DoctorsET_840.jpg\n"
     ]
    },
    {
     "name": "stdout",
     "output_type": "stream",
     "text": [
      "\n",
      "image 1/1 D:\\Kifya_training\\Week 7\\EthioMart-Amharic-NER-System\\data\\processed\\images\\DoctorsET_841.jpg: 640x640 3 persons, 1 frisbee, 1 chair, 1509.9ms\n",
      "Speed: 26.3ms preprocess, 1509.9ms inference, 2.0ms postprocess per image at shape (1, 3, 640, 640)\n"
     ]
    },
    {
     "name": "stderr",
     "output_type": "stream",
     "text": [
      "2025-01-30 22:25:02,212 - INFO - Detection saved for DoctorsET_841.jpg\n"
     ]
    },
    {
     "name": "stdout",
     "output_type": "stream",
     "text": [
      "\n",
      "image 1/1 D:\\Kifya_training\\Week 7\\EthioMart-Amharic-NER-System\\data\\processed\\images\\DoctorsET_842.jpg: 640x640 8 persons, 1 chair, 2 clocks, 1424.2ms\n",
      "Speed: 16.0ms preprocess, 1424.2ms inference, 6.1ms postprocess per image at shape (1, 3, 640, 640)\n"
     ]
    },
    {
     "name": "stderr",
     "output_type": "stream",
     "text": [
      "2025-01-30 22:25:03,758 - INFO - Detection saved for DoctorsET_842.jpg\n"
     ]
    },
    {
     "name": "stdout",
     "output_type": "stream",
     "text": [
      "\n",
      "image 1/1 D:\\Kifya_training\\Week 7\\EthioMart-Amharic-NER-System\\data\\processed\\images\\EAHCI_2489.jpg: 640x640 7 persons, 1 chair, 1 dining table, 1513.8ms\n",
      "Speed: 20.2ms preprocess, 1513.8ms inference, 8.1ms postprocess per image at shape (1, 3, 640, 640)\n"
     ]
    },
    {
     "name": "stderr",
     "output_type": "stream",
     "text": [
      "2025-01-30 22:25:05,410 - INFO - Detection saved for EAHCI_2489.jpg\n"
     ]
    },
    {
     "name": "stdout",
     "output_type": "stream",
     "text": [
      "\n",
      "image 1/1 D:\\Kifya_training\\Week 7\\EthioMart-Amharic-NER-System\\data\\processed\\images\\EAHCI_2490.jpg: 640x640 4 persons, 1 book, 1557.4ms\n",
      "Speed: 55.3ms preprocess, 1557.4ms inference, 2.0ms postprocess per image at shape (1, 3, 640, 640)\n"
     ]
    },
    {
     "name": "stderr",
     "output_type": "stream",
     "text": [
      "2025-01-30 22:25:07,128 - INFO - Detection saved for EAHCI_2490.jpg\n"
     ]
    },
    {
     "name": "stdout",
     "output_type": "stream",
     "text": [
      "\n",
      "image 1/1 D:\\Kifya_training\\Week 7\\EthioMart-Amharic-NER-System\\data\\processed\\images\\EAHCI_2492.jpg: 640x640 2 persons, 1454.9ms\n",
      "Speed: 33.3ms preprocess, 1454.9ms inference, 4.5ms postprocess per image at shape (1, 3, 640, 640)\n"
     ]
    },
    {
     "name": "stderr",
     "output_type": "stream",
     "text": [
      "2025-01-30 22:25:08,714 - INFO - Detection saved for EAHCI_2492.jpg\n"
     ]
    },
    {
     "name": "stdout",
     "output_type": "stream",
     "text": [
      "\n",
      "image 1/1 D:\\Kifya_training\\Week 7\\EthioMart-Amharic-NER-System\\data\\processed\\images\\EAHCI_2493.jpg: 640x640 4 persons, 1 book, 1276.2ms\n",
      "Speed: 19.7ms preprocess, 1276.2ms inference, 6.0ms postprocess per image at shape (1, 3, 640, 640)\n"
     ]
    },
    {
     "name": "stderr",
     "output_type": "stream",
     "text": [
      "2025-01-30 22:25:10,124 - INFO - Detection saved for EAHCI_2493.jpg\n"
     ]
    },
    {
     "name": "stdout",
     "output_type": "stream",
     "text": [
      "\n",
      "image 1/1 D:\\Kifya_training\\Week 7\\EthioMart-Amharic-NER-System\\data\\processed\\images\\EAHCI_2495.jpg: 640x640 5 persons, 1418.4ms\n",
      "Speed: 49.8ms preprocess, 1418.4ms inference, 5.1ms postprocess per image at shape (1, 3, 640, 640)\n"
     ]
    },
    {
     "name": "stderr",
     "output_type": "stream",
     "text": [
      "2025-01-30 22:25:11,705 - INFO - Detection saved for EAHCI_2495.jpg\n"
     ]
    },
    {
     "name": "stdout",
     "output_type": "stream",
     "text": [
      "\n",
      "image 1/1 D:\\Kifya_training\\Week 7\\EthioMart-Amharic-NER-System\\data\\processed\\images\\EAHCI_2496.jpg: 640x640 1 stop sign, 1409.1ms\n",
      "Speed: 30.2ms preprocess, 1409.1ms inference, 5.0ms postprocess per image at shape (1, 3, 640, 640)\n"
     ]
    },
    {
     "name": "stderr",
     "output_type": "stream",
     "text": [
      "2025-01-30 22:25:13,233 - INFO - Detection saved for EAHCI_2496.jpg\n"
     ]
    },
    {
     "name": "stdout",
     "output_type": "stream",
     "text": [
      "\n",
      "image 1/1 D:\\Kifya_training\\Week 7\\EthioMart-Amharic-NER-System\\data\\processed\\images\\EAHCI_2498.jpg: 640x640 1 person, 1 sports ball, 1 tv, 3 laptops, 1 mouse, 1320.5ms\n",
      "Speed: 70.0ms preprocess, 1320.5ms inference, 4.0ms postprocess per image at shape (1, 3, 640, 640)\n"
     ]
    },
    {
     "name": "stderr",
     "output_type": "stream",
     "text": [
      "2025-01-30 22:25:14,785 - INFO - Detection saved for EAHCI_2498.jpg\n"
     ]
    },
    {
     "name": "stdout",
     "output_type": "stream",
     "text": [
      "\n",
      "image 1/1 D:\\Kifya_training\\Week 7\\EthioMart-Amharic-NER-System\\data\\processed\\images\\EAHCI_2501.jpg: 640x640 8 persons, 1 handbag, 1 tie, 1 book, 1705.3ms\n",
      "Speed: 15.3ms preprocess, 1705.3ms inference, 6.6ms postprocess per image at shape (1, 3, 640, 640)\n"
     ]
    },
    {
     "name": "stderr",
     "output_type": "stream",
     "text": [
      "2025-01-30 22:25:16,621 - INFO - Detection saved for EAHCI_2501.jpg\n"
     ]
    },
    {
     "name": "stdout",
     "output_type": "stream",
     "text": [
      "\n",
      "image 1/1 D:\\Kifya_training\\Week 7\\EthioMart-Amharic-NER-System\\data\\processed\\images\\EAHCI_2502.jpg: 640x640 9 persons, 1 handbag, 1396.7ms\n",
      "Speed: 22.3ms preprocess, 1396.7ms inference, 7.0ms postprocess per image at shape (1, 3, 640, 640)\n"
     ]
    },
    {
     "name": "stderr",
     "output_type": "stream",
     "text": [
      "2025-01-30 22:25:18,170 - INFO - Detection saved for EAHCI_2502.jpg\n"
     ]
    },
    {
     "name": "stdout",
     "output_type": "stream",
     "text": [
      "\n",
      "image 1/1 D:\\Kifya_training\\Week 7\\EthioMart-Amharic-NER-System\\data\\processed\\images\\EAHCI_2503.jpg: 640x640 8 persons, 1 handbag, 1 tie, 1368.6ms\n",
      "Speed: 32.5ms preprocess, 1368.6ms inference, 4.1ms postprocess per image at shape (1, 3, 640, 640)\n"
     ]
    },
    {
     "name": "stderr",
     "output_type": "stream",
     "text": [
      "2025-01-30 22:25:19,711 - INFO - Detection saved for EAHCI_2503.jpg\n"
     ]
    },
    {
     "name": "stdout",
     "output_type": "stream",
     "text": [
      "\n",
      "image 1/1 D:\\Kifya_training\\Week 7\\EthioMart-Amharic-NER-System\\data\\processed\\images\\EAHCI_2506.jpg: 640x640 (no detections), 1377.0ms\n",
      "Speed: 37.6ms preprocess, 1377.0ms inference, 4.0ms postprocess per image at shape (1, 3, 640, 640)\n"
     ]
    },
    {
     "name": "stderr",
     "output_type": "stream",
     "text": [
      "2025-01-30 22:25:21,208 - INFO - Detection saved for EAHCI_2506.jpg\n"
     ]
    },
    {
     "name": "stdout",
     "output_type": "stream",
     "text": [
      "\n",
      "image 1/1 D:\\Kifya_training\\Week 7\\EthioMart-Amharic-NER-System\\data\\processed\\images\\EAHCI_2507.jpg: 640x640 5 persons, 2969.9ms\n",
      "Speed: 44.4ms preprocess, 2969.9ms inference, 40.5ms postprocess per image at shape (1, 3, 640, 640)\n"
     ]
    },
    {
     "name": "stderr",
     "output_type": "stream",
     "text": [
      "2025-01-30 22:25:24,410 - INFO - Detection saved for EAHCI_2507.jpg\n"
     ]
    },
    {
     "name": "stdout",
     "output_type": "stream",
     "text": [
      "\n",
      "image 1/1 D:\\Kifya_training\\Week 7\\EthioMart-Amharic-NER-System\\data\\processed\\images\\EAHCI_2509.jpg: 640x640 4 persons, 1 book, 4146.6ms\n",
      "Speed: 132.8ms preprocess, 4146.6ms inference, 7.0ms postprocess per image at shape (1, 3, 640, 640)\n"
     ]
    },
    {
     "name": "stderr",
     "output_type": "stream",
     "text": [
      "2025-01-30 22:25:28,892 - INFO - Detection saved for EAHCI_2509.jpg\n"
     ]
    },
    {
     "name": "stdout",
     "output_type": "stream",
     "text": [
      "\n",
      "image 1/1 D:\\Kifya_training\\Week 7\\EthioMart-Amharic-NER-System\\data\\processed\\images\\EAHCI_2510.jpg: 640x640 1 tv, 1 cell phone, 1534.7ms\n",
      "Speed: 34.6ms preprocess, 1534.7ms inference, 6.1ms postprocess per image at shape (1, 3, 640, 640)\n"
     ]
    },
    {
     "name": "stderr",
     "output_type": "stream",
     "text": [
      "2025-01-30 22:25:30,554 - INFO - Detection saved for EAHCI_2510.jpg\n"
     ]
    },
    {
     "name": "stdout",
     "output_type": "stream",
     "text": [
      "\n",
      "image 1/1 D:\\Kifya_training\\Week 7\\EthioMart-Amharic-NER-System\\data\\processed\\images\\EAHCI_2513.jpg: 640x640 7 persons, 1 chair, 1 dining table, 1431.5ms\n",
      "Speed: 16.4ms preprocess, 1431.5ms inference, 11.1ms postprocess per image at shape (1, 3, 640, 640)\n"
     ]
    },
    {
     "name": "stderr",
     "output_type": "stream",
     "text": [
      "2025-01-30 22:25:32,110 - INFO - Detection saved for EAHCI_2513.jpg\n"
     ]
    },
    {
     "name": "stdout",
     "output_type": "stream",
     "text": [
      "\n",
      "image 1/1 D:\\Kifya_training\\Week 7\\EthioMart-Amharic-NER-System\\data\\processed\\images\\EAHCI_2514.jpg: 640x640 1 tv, 1 cell phone, 1324.5ms\n",
      "Speed: 35.8ms preprocess, 1324.5ms inference, 6.2ms postprocess per image at shape (1, 3, 640, 640)\n"
     ]
    },
    {
     "name": "stderr",
     "output_type": "stream",
     "text": [
      "2025-01-30 22:25:33,580 - INFO - Detection saved for EAHCI_2514.jpg\n"
     ]
    },
    {
     "name": "stdout",
     "output_type": "stream",
     "text": [
      "\n",
      "image 1/1 D:\\Kifya_training\\Week 7\\EthioMart-Amharic-NER-System\\data\\processed\\images\\EAHCI_2515.jpg: 640x640 3 persons, 1 tv, 1369.0ms\n",
      "Speed: 26.9ms preprocess, 1369.0ms inference, 2.0ms postprocess per image at shape (1, 3, 640, 640)\n"
     ]
    },
    {
     "name": "stderr",
     "output_type": "stream",
     "text": [
      "2025-01-30 22:25:35,055 - INFO - Detection saved for EAHCI_2515.jpg\n"
     ]
    },
    {
     "name": "stdout",
     "output_type": "stream",
     "text": [
      "\n",
      "image 1/1 D:\\Kifya_training\\Week 7\\EthioMart-Amharic-NER-System\\data\\processed\\images\\EAHCI_2516.jpg: 640x640 6 persons, 2172.2ms\n",
      "Speed: 23.7ms preprocess, 2172.2ms inference, 16.3ms postprocess per image at shape (1, 3, 640, 640)\n"
     ]
    },
    {
     "name": "stderr",
     "output_type": "stream",
     "text": [
      "2025-01-30 22:25:37,397 - INFO - Detection saved for EAHCI_2516.jpg\n"
     ]
    },
    {
     "name": "stdout",
     "output_type": "stream",
     "text": [
      "\n",
      "image 1/1 D:\\Kifya_training\\Week 7\\EthioMart-Amharic-NER-System\\data\\processed\\images\\EAHCI_2517.jpg: 640x640 13 persons, 1 tv, 1633.4ms\n",
      "Speed: 47.7ms preprocess, 1633.4ms inference, 4.1ms postprocess per image at shape (1, 3, 640, 640)\n"
     ]
    },
    {
     "name": "stderr",
     "output_type": "stream",
     "text": [
      "2025-01-30 22:25:39,216 - INFO - Detection saved for EAHCI_2517.jpg\n"
     ]
    },
    {
     "name": "stdout",
     "output_type": "stream",
     "text": [
      "\n",
      "image 1/1 D:\\Kifya_training\\Week 7\\EthioMart-Amharic-NER-System\\data\\processed\\images\\EAHCI_2518.jpg: 640x640 2 persons, 1477.3ms\n",
      "Speed: 36.0ms preprocess, 1477.3ms inference, 4.1ms postprocess per image at shape (1, 3, 640, 640)\n"
     ]
    },
    {
     "name": "stderr",
     "output_type": "stream",
     "text": [
      "2025-01-30 22:25:40,839 - INFO - Detection saved for EAHCI_2518.jpg\n"
     ]
    },
    {
     "name": "stdout",
     "output_type": "stream",
     "text": [
      "\n",
      "image 1/1 D:\\Kifya_training\\Week 7\\EthioMart-Amharic-NER-System\\data\\processed\\images\\EAHCI_2519.jpg: 640x640 5 persons, 2280.7ms\n",
      "Speed: 51.0ms preprocess, 2280.7ms inference, 12.3ms postprocess per image at shape (1, 3, 640, 640)\n"
     ]
    },
    {
     "name": "stderr",
     "output_type": "stream",
     "text": [
      "2025-01-30 22:25:43,294 - INFO - Detection saved for EAHCI_2519.jpg\n"
     ]
    },
    {
     "name": "stdout",
     "output_type": "stream",
     "text": [
      "\n",
      "image 1/1 D:\\Kifya_training\\Week 7\\EthioMart-Amharic-NER-System\\data\\processed\\images\\EAHCI_2520.jpg: 640x640 1 person, 1 tie, 2803.7ms\n",
      "Speed: 31.6ms preprocess, 2803.7ms inference, 2.0ms postprocess per image at shape (1, 3, 640, 640)\n"
     ]
    },
    {
     "name": "stderr",
     "output_type": "stream",
     "text": [
      "2025-01-30 22:25:46,376 - INFO - Detection saved for EAHCI_2520.jpg\n"
     ]
    },
    {
     "name": "stdout",
     "output_type": "stream",
     "text": [
      "\n",
      "image 1/1 D:\\Kifya_training\\Week 7\\EthioMart-Amharic-NER-System\\data\\processed\\images\\EAHCI_2521.jpg: 640x640 27 persons, 1 cell phone, 1404.4ms\n",
      "Speed: 28.3ms preprocess, 1404.4ms inference, 4.1ms postprocess per image at shape (1, 3, 640, 640)\n"
     ]
    },
    {
     "name": "stderr",
     "output_type": "stream",
     "text": [
      "2025-01-30 22:25:47,912 - INFO - Detection saved for EAHCI_2521.jpg\n"
     ]
    },
    {
     "name": "stdout",
     "output_type": "stream",
     "text": [
      "\n",
      "image 1/1 D:\\Kifya_training\\Week 7\\EthioMart-Amharic-NER-System\\data\\processed\\images\\EAHCI_2522.jpg: 640x640 11 persons, 1 dog, 1 baseball bat, 3 baseball gloves, 1444.3ms\n",
      "Speed: 39.9ms preprocess, 1444.3ms inference, 11.3ms postprocess per image at shape (1, 3, 640, 640)\n"
     ]
    },
    {
     "name": "stderr",
     "output_type": "stream",
     "text": [
      "2025-01-30 22:25:49,542 - INFO - Detection saved for EAHCI_2522.jpg\n"
     ]
    },
    {
     "name": "stdout",
     "output_type": "stream",
     "text": [
      "\n",
      "image 1/1 D:\\Kifya_training\\Week 7\\EthioMart-Amharic-NER-System\\data\\processed\\images\\EAHCI_2523.jpg: 640x640 6 persons, 2116.0ms\n",
      "Speed: 15.0ms preprocess, 2116.0ms inference, 6.1ms postprocess per image at shape (1, 3, 640, 640)\n"
     ]
    },
    {
     "name": "stderr",
     "output_type": "stream",
     "text": [
      "2025-01-30 22:25:51,803 - INFO - Detection saved for EAHCI_2523.jpg\n"
     ]
    },
    {
     "name": "stdout",
     "output_type": "stream",
     "text": [
      "\n",
      "image 1/1 D:\\Kifya_training\\Week 7\\EthioMart-Amharic-NER-System\\data\\processed\\images\\EAHCI_2525.jpg: 640x640 2 persons, 1544.5ms\n",
      "Speed: 30.9ms preprocess, 1544.5ms inference, 4.0ms postprocess per image at shape (1, 3, 640, 640)\n"
     ]
    },
    {
     "name": "stderr",
     "output_type": "stream",
     "text": [
      "2025-01-30 22:25:53,495 - INFO - Detection saved for EAHCI_2525.jpg\n"
     ]
    },
    {
     "name": "stdout",
     "output_type": "stream",
     "text": [
      "\n",
      "image 1/1 D:\\Kifya_training\\Week 7\\EthioMart-Amharic-NER-System\\data\\processed\\images\\EAHCI_2526.jpg: 640x640 1 person, 1473.7ms\n",
      "Speed: 26.6ms preprocess, 1473.7ms inference, 9.9ms postprocess per image at shape (1, 3, 640, 640)\n"
     ]
    },
    {
     "name": "stderr",
     "output_type": "stream",
     "text": [
      "2025-01-30 22:25:55,113 - INFO - Detection saved for EAHCI_2526.jpg\n"
     ]
    },
    {
     "name": "stdout",
     "output_type": "stream",
     "text": [
      "\n",
      "image 1/1 D:\\Kifya_training\\Week 7\\EthioMart-Amharic-NER-System\\data\\processed\\images\\EAHCI_2527.jpg: 640x640 15 persons, 1619.8ms\n",
      "Speed: 28.0ms preprocess, 1619.8ms inference, 4.0ms postprocess per image at shape (1, 3, 640, 640)\n"
     ]
    },
    {
     "name": "stderr",
     "output_type": "stream",
     "text": [
      "2025-01-30 22:25:56,867 - INFO - Detection saved for EAHCI_2527.jpg\n"
     ]
    },
    {
     "name": "stdout",
     "output_type": "stream",
     "text": [
      "\n",
      "image 1/1 D:\\Kifya_training\\Week 7\\EthioMart-Amharic-NER-System\\data\\processed\\images\\EAHCI_2528.jpg: 640x640 14 persons, 2 handbags, 1 tv, 1 laptop, 1 remote, 1529.3ms\n",
      "Speed: 38.7ms preprocess, 1529.3ms inference, 9.8ms postprocess per image at shape (1, 3, 640, 640)\n"
     ]
    },
    {
     "name": "stderr",
     "output_type": "stream",
     "text": [
      "2025-01-30 22:25:58,579 - INFO - Detection saved for EAHCI_2528.jpg\n"
     ]
    },
    {
     "name": "stdout",
     "output_type": "stream",
     "text": [
      "\n",
      "image 1/1 D:\\Kifya_training\\Week 7\\EthioMart-Amharic-NER-System\\data\\processed\\images\\EAHCI_2529.jpg: 640x640 (no detections), 1405.9ms\n",
      "Speed: 21.0ms preprocess, 1405.9ms inference, 2.0ms postprocess per image at shape (1, 3, 640, 640)\n"
     ]
    },
    {
     "name": "stderr",
     "output_type": "stream",
     "text": [
      "2025-01-30 22:26:00,089 - INFO - Detection saved for EAHCI_2529.jpg\n"
     ]
    },
    {
     "name": "stdout",
     "output_type": "stream",
     "text": [
      "\n",
      "image 1/1 D:\\Kifya_training\\Week 7\\EthioMart-Amharic-NER-System\\data\\processed\\images\\EAHCI_2530.jpg: 640x640 (no detections), 1816.1ms\n",
      "Speed: 23.3ms preprocess, 1816.1ms inference, 4.1ms postprocess per image at shape (1, 3, 640, 640)\n"
     ]
    },
    {
     "name": "stderr",
     "output_type": "stream",
     "text": [
      "2025-01-30 22:26:02,023 - INFO - Detection saved for EAHCI_2530.jpg\n"
     ]
    },
    {
     "name": "stdout",
     "output_type": "stream",
     "text": [
      "\n",
      "image 1/1 D:\\Kifya_training\\Week 7\\EthioMart-Amharic-NER-System\\data\\processed\\images\\EAHCI_2533.jpg: 640x640 3 persons, 1428.0ms\n",
      "Speed: 17.5ms preprocess, 1428.0ms inference, 9.7ms postprocess per image at shape (1, 3, 640, 640)\n"
     ]
    },
    {
     "name": "stderr",
     "output_type": "stream",
     "text": [
      "2025-01-30 22:26:03,580 - INFO - Detection saved for EAHCI_2533.jpg\n"
     ]
    },
    {
     "name": "stdout",
     "output_type": "stream",
     "text": [
      "\n",
      "image 1/1 D:\\Kifya_training\\Week 7\\EthioMart-Amharic-NER-System\\data\\processed\\images\\EAHCI_2534.jpg: 640x640 1 person, 1356.2ms\n",
      "Speed: 27.9ms preprocess, 1356.2ms inference, 5.3ms postprocess per image at shape (1, 3, 640, 640)\n"
     ]
    },
    {
     "name": "stderr",
     "output_type": "stream",
     "text": [
      "2025-01-30 22:26:05,067 - INFO - Detection saved for EAHCI_2534.jpg\n"
     ]
    },
    {
     "name": "stdout",
     "output_type": "stream",
     "text": [
      "\n",
      "image 1/1 D:\\Kifya_training\\Week 7\\EthioMart-Amharic-NER-System\\data\\processed\\images\\EAHCI_2537.jpg: 640x640 1 remote, 1571.0ms\n",
      "Speed: 10.2ms preprocess, 1571.0ms inference, 6.1ms postprocess per image at shape (1, 3, 640, 640)\n"
     ]
    },
    {
     "name": "stderr",
     "output_type": "stream",
     "text": [
      "2025-01-30 22:26:06,772 - INFO - Detection saved for EAHCI_2537.jpg\n"
     ]
    },
    {
     "name": "stdout",
     "output_type": "stream",
     "text": [
      "\n",
      "image 1/1 D:\\Kifya_training\\Week 7\\EthioMart-Amharic-NER-System\\data\\processed\\images\\EAHCI_2538.jpg: 640x640 1 person, 1618.4ms\n",
      "Speed: 25.3ms preprocess, 1618.4ms inference, 5.7ms postprocess per image at shape (1, 3, 640, 640)\n"
     ]
    },
    {
     "name": "stderr",
     "output_type": "stream",
     "text": [
      "2025-01-30 22:26:08,519 - INFO - Detection saved for EAHCI_2538.jpg\n"
     ]
    },
    {
     "name": "stdout",
     "output_type": "stream",
     "text": [
      "\n",
      "image 1/1 D:\\Kifya_training\\Week 7\\EthioMart-Amharic-NER-System\\data\\processed\\images\\EAHCI_2539.jpg: 640x640 1 person, 1 tv, 1 keyboard, 1318.0ms\n",
      "Speed: 25.5ms preprocess, 1318.0ms inference, 6.1ms postprocess per image at shape (1, 3, 640, 640)\n"
     ]
    },
    {
     "name": "stderr",
     "output_type": "stream",
     "text": [
      "2025-01-30 22:26:09,998 - INFO - Detection saved for EAHCI_2539.jpg\n"
     ]
    },
    {
     "name": "stdout",
     "output_type": "stream",
     "text": [
      "\n",
      "image 1/1 D:\\Kifya_training\\Week 7\\EthioMart-Amharic-NER-System\\data\\processed\\images\\EAHCI_2540.jpg: 640x640 (no detections), 1600.0ms\n",
      "Speed: 155.8ms preprocess, 1600.0ms inference, 3.6ms postprocess per image at shape (1, 3, 640, 640)\n"
     ]
    },
    {
     "name": "stderr",
     "output_type": "stream",
     "text": [
      "2025-01-30 22:26:11,848 - INFO - Detection saved for EAHCI_2540.jpg\n"
     ]
    },
    {
     "name": "stdout",
     "output_type": "stream",
     "text": [
      "\n",
      "image 1/1 D:\\Kifya_training\\Week 7\\EthioMart-Amharic-NER-System\\data\\processed\\images\\EAHCI_2541.jpg: 640x640 (no detections), 1354.7ms\n",
      "Speed: 15.0ms preprocess, 1354.7ms inference, 9.1ms postprocess per image at shape (1, 3, 640, 640)\n"
     ]
    },
    {
     "name": "stderr",
     "output_type": "stream",
     "text": [
      "2025-01-30 22:26:13,355 - INFO - Detection saved for EAHCI_2541.jpg\n"
     ]
    },
    {
     "name": "stdout",
     "output_type": "stream",
     "text": [
      "\n",
      "image 1/1 D:\\Kifya_training\\Week 7\\EthioMart-Amharic-NER-System\\data\\processed\\images\\EAHCI_2542.jpg: 640x640 15 persons, 3439.8ms\n",
      "Speed: 27.6ms preprocess, 3439.8ms inference, 19.0ms postprocess per image at shape (1, 3, 640, 640)\n"
     ]
    },
    {
     "name": "stderr",
     "output_type": "stream",
     "text": [
      "2025-01-30 22:26:16,980 - INFO - Detection saved for EAHCI_2542.jpg\n"
     ]
    },
    {
     "name": "stdout",
     "output_type": "stream",
     "text": [
      "\n",
      "image 1/1 D:\\Kifya_training\\Week 7\\EthioMart-Amharic-NER-System\\data\\processed\\images\\EAHCI_2544.jpg: 640x640 1 airplane, 2013.2ms\n",
      "Speed: 45.9ms preprocess, 2013.2ms inference, 6.1ms postprocess per image at shape (1, 3, 640, 640)\n"
     ]
    },
    {
     "name": "stderr",
     "output_type": "stream",
     "text": [
      "2025-01-30 22:26:19,270 - INFO - Detection saved for EAHCI_2544.jpg\n"
     ]
    },
    {
     "name": "stdout",
     "output_type": "stream",
     "text": [
      "\n",
      "image 1/1 D:\\Kifya_training\\Week 7\\EthioMart-Amharic-NER-System\\data\\processed\\images\\EAHCI_2545.jpg: 640x640 2 persons, 1 tv, 1686.9ms\n",
      "Speed: 49.4ms preprocess, 1686.9ms inference, 5.7ms postprocess per image at shape (1, 3, 640, 640)\n"
     ]
    },
    {
     "name": "stderr",
     "output_type": "stream",
     "text": [
      "2025-01-30 22:26:21,147 - INFO - Detection saved for EAHCI_2545.jpg\n"
     ]
    },
    {
     "name": "stdout",
     "output_type": "stream",
     "text": [
      "\n",
      "image 1/1 D:\\Kifya_training\\Week 7\\EthioMart-Amharic-NER-System\\data\\processed\\images\\EAHCI_2549.jpg: 640x640 1 remote, 2013.1ms\n",
      "Speed: 105.3ms preprocess, 2013.1ms inference, 13.8ms postprocess per image at shape (1, 3, 640, 640)\n"
     ]
    },
    {
     "name": "stderr",
     "output_type": "stream",
     "text": [
      "2025-01-30 22:26:23,414 - INFO - Detection saved for EAHCI_2549.jpg\n"
     ]
    },
    {
     "name": "stdout",
     "output_type": "stream",
     "text": [
      "\n",
      "image 1/1 D:\\Kifya_training\\Week 7\\EthioMart-Amharic-NER-System\\data\\processed\\images\\EAHCI_2551.jpg: 640x640 1 person, 1563.2ms\n",
      "Speed: 64.0ms preprocess, 1563.2ms inference, 4.1ms postprocess per image at shape (1, 3, 640, 640)\n"
     ]
    },
    {
     "name": "stderr",
     "output_type": "stream",
     "text": [
      "2025-01-30 22:26:25,197 - INFO - Detection saved for EAHCI_2551.jpg\n"
     ]
    },
    {
     "name": "stdout",
     "output_type": "stream",
     "text": [
      "\n",
      "image 1/1 D:\\Kifya_training\\Week 7\\EthioMart-Amharic-NER-System\\data\\processed\\images\\EAHCI_2552.jpg: 640x640 10 persons, 2 handbags, 1 tv, 2 laptops, 1 remote, 1521.0ms\n",
      "Speed: 21.9ms preprocess, 1521.0ms inference, 2.0ms postprocess per image at shape (1, 3, 640, 640)\n"
     ]
    },
    {
     "name": "stderr",
     "output_type": "stream",
     "text": [
      "2025-01-30 22:26:26,838 - INFO - Detection saved for EAHCI_2552.jpg\n"
     ]
    },
    {
     "name": "stdout",
     "output_type": "stream",
     "text": [
      "\n",
      "image 1/1 D:\\Kifya_training\\Week 7\\EthioMart-Amharic-NER-System\\data\\processed\\images\\EAHCI_2553.jpg: 640x640 (no detections), 1300.2ms\n",
      "Speed: 17.7ms preprocess, 1300.2ms inference, 2.0ms postprocess per image at shape (1, 3, 640, 640)\n"
     ]
    },
    {
     "name": "stderr",
     "output_type": "stream",
     "text": [
      "2025-01-30 22:26:28,286 - INFO - Detection saved for EAHCI_2553.jpg\n"
     ]
    },
    {
     "name": "stdout",
     "output_type": "stream",
     "text": [
      "\n",
      "image 1/1 D:\\Kifya_training\\Week 7\\EthioMart-Amharic-NER-System\\data\\processed\\images\\EAHCI_2554.jpg: 640x640 (no detections), 2349.9ms\n",
      "Speed: 84.7ms preprocess, 2349.9ms inference, 2.0ms postprocess per image at shape (1, 3, 640, 640)\n"
     ]
    },
    {
     "name": "stderr",
     "output_type": "stream",
     "text": [
      "2025-01-30 22:26:30,922 - INFO - Detection saved for EAHCI_2554.jpg\n"
     ]
    },
    {
     "name": "stdout",
     "output_type": "stream",
     "text": [
      "\n",
      "image 1/1 D:\\Kifya_training\\Week 7\\EthioMart-Amharic-NER-System\\data\\processed\\images\\EAHCI_2556.jpg: 640x640 15 persons, 1 handbag, 1 tv, 1 laptop, 2 remotes, 1978.3ms\n",
      "Speed: 37.6ms preprocess, 1978.3ms inference, 6.0ms postprocess per image at shape (1, 3, 640, 640)\n"
     ]
    },
    {
     "name": "stderr",
     "output_type": "stream",
     "text": [
      "2025-01-30 22:26:33,063 - INFO - Detection saved for EAHCI_2556.jpg\n"
     ]
    },
    {
     "name": "stdout",
     "output_type": "stream",
     "text": [
      "\n",
      "image 1/1 D:\\Kifya_training\\Week 7\\EthioMart-Amharic-NER-System\\data\\processed\\images\\EAHCI_2558.jpg: 640x640 3 persons, 1572.1ms\n",
      "Speed: 20.2ms preprocess, 1572.1ms inference, 8.2ms postprocess per image at shape (1, 3, 640, 640)\n"
     ]
    },
    {
     "name": "stderr",
     "output_type": "stream",
     "text": [
      "2025-01-30 22:26:34,763 - INFO - Detection saved for EAHCI_2558.jpg\n"
     ]
    },
    {
     "name": "stdout",
     "output_type": "stream",
     "text": [
      "\n",
      "image 1/1 D:\\Kifya_training\\Week 7\\EthioMart-Amharic-NER-System\\data\\processed\\images\\EAHCI_2559.jpg: 640x640 (no detections), 1296.3ms\n",
      "Speed: 43.7ms preprocess, 1296.3ms inference, 4.0ms postprocess per image at shape (1, 3, 640, 640)\n"
     ]
    },
    {
     "name": "stderr",
     "output_type": "stream",
     "text": [
      "2025-01-30 22:26:36,213 - INFO - Detection saved for EAHCI_2559.jpg\n"
     ]
    },
    {
     "name": "stdout",
     "output_type": "stream",
     "text": [
      "\n",
      "image 1/1 D:\\Kifya_training\\Week 7\\EthioMart-Amharic-NER-System\\data\\processed\\images\\EAHCI_2562.jpg: 640x640 2 persons, 1475.8ms\n",
      "Speed: 31.6ms preprocess, 1475.8ms inference, 6.1ms postprocess per image at shape (1, 3, 640, 640)\n"
     ]
    },
    {
     "name": "stderr",
     "output_type": "stream",
     "text": [
      "2025-01-30 22:26:37,821 - INFO - Detection saved for EAHCI_2562.jpg\n"
     ]
    },
    {
     "name": "stdout",
     "output_type": "stream",
     "text": [
      "\n",
      "image 1/1 D:\\Kifya_training\\Week 7\\EthioMart-Amharic-NER-System\\data\\processed\\images\\EAHCI_2563.jpg: 640x640 3 persons, 1 tv, 2171.9ms\n",
      "Speed: 16.0ms preprocess, 2171.9ms inference, 9.9ms postprocess per image at shape (1, 3, 640, 640)\n"
     ]
    },
    {
     "name": "stderr",
     "output_type": "stream",
     "text": [
      "2025-01-30 22:26:40,111 - INFO - Detection saved for EAHCI_2563.jpg\n"
     ]
    },
    {
     "name": "stdout",
     "output_type": "stream",
     "text": [
      "\n",
      "image 1/1 D:\\Kifya_training\\Week 7\\EthioMart-Amharic-NER-System\\data\\processed\\images\\EAHCI_2565.jpg: 640x640 3 persons, 2438.9ms\n",
      "Speed: 33.4ms preprocess, 2438.9ms inference, 8.3ms postprocess per image at shape (1, 3, 640, 640)\n"
     ]
    },
    {
     "name": "stderr",
     "output_type": "stream",
     "text": [
      "2025-01-30 22:26:42,741 - INFO - Detection saved for EAHCI_2565.jpg\n"
     ]
    },
    {
     "name": "stdout",
     "output_type": "stream",
     "text": [
      "\n",
      "image 1/1 D:\\Kifya_training\\Week 7\\EthioMart-Amharic-NER-System\\data\\processed\\images\\EAHCI_2566.jpg: 640x640 1 person, 1 horse, 5 sheeps, 1500.5ms\n",
      "Speed: 31.0ms preprocess, 1500.5ms inference, 7.0ms postprocess per image at shape (1, 3, 640, 640)\n"
     ]
    },
    {
     "name": "stderr",
     "output_type": "stream",
     "text": [
      "2025-01-30 22:26:44,398 - INFO - Detection saved for EAHCI_2566.jpg\n"
     ]
    },
    {
     "name": "stdout",
     "output_type": "stream",
     "text": [
      "\n",
      "image 1/1 D:\\Kifya_training\\Week 7\\EthioMart-Amharic-NER-System\\data\\processed\\images\\EAHCI_2567.jpg: 640x640 3 persons, 1878.1ms\n",
      "Speed: 45.9ms preprocess, 1878.1ms inference, 5.4ms postprocess per image at shape (1, 3, 640, 640)\n"
     ]
    },
    {
     "name": "stderr",
     "output_type": "stream",
     "text": [
      "2025-01-30 22:26:46,421 - INFO - Detection saved for EAHCI_2567.jpg\n"
     ]
    },
    {
     "name": "stdout",
     "output_type": "stream",
     "text": [
      "\n",
      "image 1/1 D:\\Kifya_training\\Week 7\\EthioMart-Amharic-NER-System\\data\\processed\\images\\EAHCI_2568.jpg: 640x640 4 persons, 1 book, 1494.6ms\n",
      "Speed: 153.2ms preprocess, 1494.6ms inference, 6.0ms postprocess per image at shape (1, 3, 640, 640)\n"
     ]
    },
    {
     "name": "stderr",
     "output_type": "stream",
     "text": [
      "2025-01-30 22:26:48,278 - INFO - Detection saved for EAHCI_2568.jpg\n"
     ]
    },
    {
     "name": "stdout",
     "output_type": "stream",
     "text": [
      "\n",
      "image 1/1 D:\\Kifya_training\\Week 7\\EthioMart-Amharic-NER-System\\data\\processed\\images\\EAHCI_2570.jpg: 640x640 1 person, 2280.0ms\n",
      "Speed: 18.0ms preprocess, 2280.0ms inference, 5.8ms postprocess per image at shape (1, 3, 640, 640)\n"
     ]
    },
    {
     "name": "stderr",
     "output_type": "stream",
     "text": [
      "2025-01-30 22:26:50,663 - INFO - Detection saved for EAHCI_2570.jpg\n"
     ]
    },
    {
     "name": "stdout",
     "output_type": "stream",
     "text": [
      "\n",
      "image 1/1 D:\\Kifya_training\\Week 7\\EthioMart-Amharic-NER-System\\data\\processed\\images\\EAHCI_2571.jpg: 640x640 3 persons, 1491.7ms\n",
      "Speed: 54.3ms preprocess, 1491.7ms inference, 4.6ms postprocess per image at shape (1, 3, 640, 640)\n"
     ]
    },
    {
     "name": "stderr",
     "output_type": "stream",
     "text": [
      "2025-01-30 22:26:52,344 - INFO - Detection saved for EAHCI_2571.jpg\n"
     ]
    },
    {
     "name": "stdout",
     "output_type": "stream",
     "text": [
      "\n",
      "image 1/1 D:\\Kifya_training\\Week 7\\EthioMart-Amharic-NER-System\\data\\processed\\images\\EAHCI_2574.jpg: 640x640 (no detections), 2545.8ms\n",
      "Speed: 24.8ms preprocess, 2545.8ms inference, 3.0ms postprocess per image at shape (1, 3, 640, 640)\n"
     ]
    },
    {
     "name": "stderr",
     "output_type": "stream",
     "text": [
      "2025-01-30 22:26:55,032 - INFO - Detection saved for EAHCI_2574.jpg\n"
     ]
    },
    {
     "name": "stdout",
     "output_type": "stream",
     "text": [
      "\n",
      "image 1/1 D:\\Kifya_training\\Week 7\\EthioMart-Amharic-NER-System\\data\\processed\\images\\EAHCI_2575.jpg: 640x640 1 handbag, 1624.1ms\n",
      "Speed: 19.5ms preprocess, 1624.1ms inference, 4.1ms postprocess per image at shape (1, 3, 640, 640)\n"
     ]
    },
    {
     "name": "stderr",
     "output_type": "stream",
     "text": [
      "2025-01-30 22:26:56,811 - INFO - Detection saved for EAHCI_2575.jpg\n"
     ]
    },
    {
     "name": "stdout",
     "output_type": "stream",
     "text": [
      "\n",
      "image 1/1 D:\\Kifya_training\\Week 7\\EthioMart-Amharic-NER-System\\data\\processed\\images\\EAHCI_2576.jpg: 640x640 2 persons, 1443.5ms\n",
      "Speed: 32.6ms preprocess, 1443.5ms inference, 6.1ms postprocess per image at shape (1, 3, 640, 640)\n"
     ]
    },
    {
     "name": "stderr",
     "output_type": "stream",
     "text": [
      "2025-01-30 22:26:58,427 - INFO - Detection saved for EAHCI_2576.jpg\n"
     ]
    },
    {
     "name": "stdout",
     "output_type": "stream",
     "text": [
      "\n",
      "image 1/1 D:\\Kifya_training\\Week 7\\EthioMart-Amharic-NER-System\\data\\processed\\images\\EAHCI_2577.jpg: 640x640 15 persons, 1 handbag, 1 tv, 1 laptop, 2 remotes, 1439.7ms\n",
      "Speed: 43.7ms preprocess, 1439.7ms inference, 6.8ms postprocess per image at shape (1, 3, 640, 640)\n"
     ]
    },
    {
     "name": "stderr",
     "output_type": "stream",
     "text": [
      "2025-01-30 22:27:00,031 - INFO - Detection saved for EAHCI_2577.jpg\n"
     ]
    },
    {
     "name": "stdout",
     "output_type": "stream",
     "text": [
      "\n"
     ]
    }
   ],
   "source": [
    "# Import the object detection function\n",
    "from object_detection import run_object_detection\n",
    "\n",
    "# Run object detection on preprocessed images\n",
    "run_object_detection(input_dir=INPUT_DIR)\n"
   ]
  }
 ],
 "metadata": {
  "kernelspec": {
   "display_name": "venv",
   "language": "python",
   "name": "python3"
  },
  "language_info": {
   "codemirror_mode": {
    "name": "ipython",
    "version": 3
   },
   "file_extension": ".py",
   "mimetype": "text/x-python",
   "name": "python",
   "nbconvert_exporter": "python",
   "pygments_lexer": "ipython3",
   "version": "3.12.8"
  }
 },
 "nbformat": 4,
 "nbformat_minor": 2
}
